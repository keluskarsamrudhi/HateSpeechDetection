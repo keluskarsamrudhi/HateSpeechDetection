{
  "nbformat": 4,
  "nbformat_minor": 0,
  "metadata": {
    "colab": {
      "name": "Hate_Speech_LJMU.ipynb",
      "provenance": [],
      "collapsed_sections": []
    },
    "kernelspec": {
      "name": "python3",
      "display_name": "Python 3"
    },
    "language_info": {
      "name": "python"
    }
  },
  "cells": [
    {
      "cell_type": "markdown",
      "metadata": {
        "id": "REgKOgoxYZAW"
      },
      "source": [
        "# Importing Libraries"
      ]
    },
    {
      "cell_type": "code",
      "metadata": {
        "id": "PLw0xerYiH-i",
        "colab": {
          "base_uri": "https://localhost:8080/"
        },
        "outputId": "6ccc5498-6dda-4949-8197-23fd2f39c77e"
      },
      "source": [
        "import pandas as pd\n",
        "import numpy as np\n",
        "import matplotlib.pyplot as plt\n",
        "import matplotlib.pylab as plb\n",
        "\n",
        "import warnings\n",
        "\n",
        "from unidecode import unidecode\n",
        "import string\n",
        "from bs4 import BeautifulSoup\n",
        "from html import unescape\n",
        "import emoji\n",
        "import gradio as gr\n",
        "import os\n",
        "\n",
        "from joblib import Parallel\n",
        "from sklearn.utils.fixes import delayed\n",
        "from multiprocessing import Pool\n",
        "\n",
        "from pandarallel import pandarallel\n",
        "pandarallel.initialize(progress_bar=False)\n",
        "\n",
        "import pickle\n",
        "import re\n",
        "\n",
        "os.environ['NUMEXPR_MAX_THREADS'] = '32'\n",
        "os.environ['TOKENIZERS_PARALLELISM'] = 'true'\n",
        "\n",
        "pd.pandas.set_option('display.max_columns', None)\n",
        "pd.pandas.set_option('display.max_rows', None)\n",
        "pd.set_option('display.max_colwidth', None)\n",
        "\n",
        "from sklearn.metrics import confusion_matrix, classification_report, roc_auc_score, f1_score, precision_score, recall_score, accuracy_score\n",
        "from sklearn.svm import LinearSVC, SVC\n",
        "from sklearn.neural_network import MLPClassifier\n",
        "from sklearn.neighbors import KNeighborsClassifier\n",
        "from sklearn.linear_model import ElasticNet, LogisticRegression, SGDClassifier\n",
        "from sklearn.ensemble import RandomForestClassifier, GradientBoostingClassifier, IsolationForest, AdaBoostClassifier, BaggingClassifier\n",
        "from sklearn.model_selection import train_test_split\n",
        "from sklearn.model_selection import RandomizedSearchCV, GridSearchCV, PredefinedSplit, ParameterGrid\n",
        "\n",
        "from xgboost import XGBClassifier, XGBRFClassifier\n",
        "\n",
        "from datasets import load_dataset\n",
        "\n",
        "from sentence_transformers import SentenceTransformer, util\n",
        "\n",
        "warnings.filterwarnings(\"ignore\")\n",
        "from sklearn.exceptions import ConvergenceWarning\n",
        "warnings.simplefilter(\"ignore\", category=ConvergenceWarning)"
      ],
      "execution_count": 3,
      "outputs": [
        {
          "output_type": "stream",
          "name": "stdout",
          "text": [
            "INFO: Pandarallel will run on 32 workers.\n",
            "INFO: Pandarallel will use Memory file system to transfer data between the main process and workers.\n"
          ]
        }
      ]
    },
    {
      "cell_type": "markdown",
      "metadata": {
        "id": "k-JOopq0nGHI"
      },
      "source": [
        "# Defining functions "
      ]
    },
    {
      "cell_type": "code",
      "metadata": {
        "id": "x0Q9ONvFm9ii"
      },
      "source": [
        "# function to remove urls\n",
        "def remove_urls(input_str):\n",
        "  url = re.compile(r'https?://\\S+|www\\.\\S+')\n",
        "  return url.sub(r'',input_str)\n",
        "\n",
        "\n",
        "# function to remove emojis\n",
        "def remove_emoji(text):\n",
        "    return emoji.get_emoji_regexp().sub(u'', text)\n",
        "\n",
        "\n",
        "# function for cleaning up text\n",
        "def text_cleanup(input_str, anglo_chars=True):\n",
        "  if input_str == None:\n",
        "    return \"\"\n",
        "\n",
        "  s = remove_urls(input_str) #remove URL\n",
        "  s = re.sub('RT @[^\\s]+','',s) #remove 'RT @user'\n",
        "  s = re.sub('@[^\\s]+','',s) #remove @user\n",
        "  s = BeautifulSoup(unescape(s), 'lxml').text #remove HTML tags\n",
        "  s = re.sub(r\"([0-9]+(\\.[0-9]+)?)\",r\" \\1 \", s) #separate alpha- num e.g. abc123 -> abc 123\n",
        "  s = re.sub(r'#x20;|\\s+|[\\u200b]{1,}', ' ', str(s)).strip() #remove extra spaces\n",
        "  s = re.sub(r'([,.!?\":;$#%&/\\-\\'])+', r'\\1', s) #remove repeated punctautions\n",
        "  s = re.sub(r'[^A-Za-z0-9 ,.!?\":;$#%&/\\-\\']+', '', s) if anglo_chars else s #remove non alphanum + punctuation chars\n",
        "  s = remove_emoji(s).lower().strip().lstrip(string.punctuation).strip() #remove emojis\n",
        "\n",
        "  return s\n",
        "\n",
        "\n",
        "# function for vectorizing text in a data frame\n",
        "def CleanupAndVectorize(df, vect_model, anglo_chars=True):\n",
        "\n",
        "  df['text'] = df['text'].apply(text_cleanup, anglo_chars=anglo_chars)\n",
        "  df = df.drop_duplicates(subset='text')\n",
        "\n",
        "  labels = df.label.to_list()\n",
        "  texts = df.text.apply(str).to_list()\n",
        "  text_vects = vect_model.encode(texts, show_progress_bar=False, convert_to_numpy=True)\n",
        "\n",
        "  return text_vects, np.array(labels)\n",
        "\n",
        "\n",
        "# two functions for vectorizing and running the model (respectively) on manually entered text\n",
        "def CleanupAndVectorizeText(text, vect_model, anglo_chars=True):\n",
        "  text = text_cleanup(text, anglo_chars=anglo_chars)\n",
        "  text_vect = vect_model.encode([text], show_progress_bar=False, convert_to_numpy=True)\n",
        "\n",
        "  return text_vect\n",
        "\n",
        "def prediction_fn(text, vect_model, sk_model):\n",
        "  return sk_model.predict_proba(CleanupAndVectorizeText(text, vect_model, anglo_chars=False))[0,1].round(3)"
      ],
      "execution_count": 2,
      "outputs": []
    },
    {
      "cell_type": "markdown",
      "metadata": {
        "id": "SZtKKCLorKKd"
      },
      "source": [
        "# Reading the Data "
      ]
    },
    {
      "cell_type": "code",
      "metadata": {
        "id": "lfDh_DBoiLII",
        "colab": {
          "base_uri": "https://localhost:8080/"
        },
        "outputId": "fb48164b-eefc-45f2-dc25-88847d037191"
      },
      "source": [
        "df = pd.read_csv(\"hate_speech_english.csv\")\n",
        "df.info()"
      ],
      "execution_count": null,
      "outputs": [
        {
          "output_type": "stream",
          "name": "stdout",
          "text": [
            "<class 'pandas.core.frame.DataFrame'>\n",
            "RangeIndex: 251093 entries, 0 to 251092\n",
            "Data columns (total 3 columns):\n",
            " #   Column  Non-Null Count   Dtype \n",
            "---  ------  --------------   ----- \n",
            " 0   textid  251093 non-null  int64 \n",
            " 1   text    251093 non-null  object\n",
            " 2   label   251093 non-null  int64 \n",
            "dtypes: int64(2), object(1)\n",
            "memory usage: 5.7+ MB\n"
          ]
        }
      ]
    },
    {
      "cell_type": "code",
      "metadata": {
        "id": "vTNEow-urTJT",
        "colab": {
          "base_uri": "https://localhost:8080/",
          "height": 206
        },
        "outputId": "bbebc4f9-badb-4f7a-a378-d7bc33288333"
      },
      "source": [
        "df.head()"
      ],
      "execution_count": null,
      "outputs": [
        {
          "output_type": "execute_result",
          "data": {
            "text/plain": [
              "    textid  \\\n",
              "0  1100000   \n",
              "1  1100001   \n",
              "2  1100003   \n",
              "3  1100004   \n",
              "4  1100005   \n",
              "\n",
              "                                                                                                                    text  \\\n",
              "0                                           1 . knew he was gettin pussy later 2 . he yakked 3 . you look stoned as hell   \n",
              "1  your girl's hoe friends gonna gas her to cheat on you. a tall nigga with abs start stroking on her in the club & they   \n",
              "2                                                                                stick to hockey faggot. you're finished   \n",
              "3                                                                all y'all dudes that just favorite this is a faggot smh   \n",
              "4                                                                      you hang out with a hoe you gonna turn into a hoe   \n",
              "\n",
              "   label  \n",
              "0      1  \n",
              "1      1  \n",
              "2      1  \n",
              "3      1  \n",
              "4      1  "
            ],
            "text/html": [
              "<div>\n",
              "<style scoped>\n",
              "    .dataframe tbody tr th:only-of-type {\n",
              "        vertical-align: middle;\n",
              "    }\n",
              "\n",
              "    .dataframe tbody tr th {\n",
              "        vertical-align: top;\n",
              "    }\n",
              "\n",
              "    .dataframe thead th {\n",
              "        text-align: right;\n",
              "    }\n",
              "</style>\n",
              "<table border=\"1\" class=\"dataframe\">\n",
              "  <thead>\n",
              "    <tr style=\"text-align: right;\">\n",
              "      <th></th>\n",
              "      <th>textid</th>\n",
              "      <th>text</th>\n",
              "      <th>label</th>\n",
              "    </tr>\n",
              "  </thead>\n",
              "  <tbody>\n",
              "    <tr>\n",
              "      <th>0</th>\n",
              "      <td>1100000</td>\n",
              "      <td>1 . knew he was gettin pussy later 2 . he yakked 3 . you look stoned as hell</td>\n",
              "      <td>1</td>\n",
              "    </tr>\n",
              "    <tr>\n",
              "      <th>1</th>\n",
              "      <td>1100001</td>\n",
              "      <td>your girl's hoe friends gonna gas her to cheat on you. a tall nigga with abs start stroking on her in the club &amp; they</td>\n",
              "      <td>1</td>\n",
              "    </tr>\n",
              "    <tr>\n",
              "      <th>2</th>\n",
              "      <td>1100003</td>\n",
              "      <td>stick to hockey faggot. you're finished</td>\n",
              "      <td>1</td>\n",
              "    </tr>\n",
              "    <tr>\n",
              "      <th>3</th>\n",
              "      <td>1100004</td>\n",
              "      <td>all y'all dudes that just favorite this is a faggot smh</td>\n",
              "      <td>1</td>\n",
              "    </tr>\n",
              "    <tr>\n",
              "      <th>4</th>\n",
              "      <td>1100005</td>\n",
              "      <td>you hang out with a hoe you gonna turn into a hoe</td>\n",
              "      <td>1</td>\n",
              "    </tr>\n",
              "  </tbody>\n",
              "</table>\n",
              "</div>"
            ]
          },
          "metadata": {},
          "execution_count": 5
        }
      ]
    },
    {
      "cell_type": "markdown",
      "metadata": {
        "id": "-mm3Wa-Hrwfs"
      },
      "source": [
        "# EDA"
      ]
    },
    {
      "cell_type": "code",
      "metadata": {
        "id": "pnPpGnXPZOCH",
        "colab": {
          "base_uri": "https://localhost:8080/"
        },
        "outputId": "b9ba0496-6675-4c12-fce1-e006036e3ed8"
      },
      "source": [
        "df.isnull().sum()"
      ],
      "execution_count": null,
      "outputs": [
        {
          "output_type": "execute_result",
          "data": {
            "text/plain": [
              "textid    0\n",
              "text      0\n",
              "label     0\n",
              "dtype: int64"
            ]
          },
          "metadata": {},
          "execution_count": 6
        }
      ]
    },
    {
      "cell_type": "markdown",
      "metadata": {
        "id": "OxNyHACbNcVd"
      },
      "source": [
        "We see that there are no null values in the data"
      ]
    },
    {
      "cell_type": "code",
      "metadata": {
        "colab": {
          "base_uri": "https://localhost:8080/",
          "height": 501
        },
        "id": "FH-GIdBtGfjA",
        "outputId": "9c9c05c5-cbaa-42fd-9e1c-5c37c0e37566"
      },
      "source": [
        "# Label distribution\n",
        "df['label'].value_counts(normalize= True).plot(kind = 'pie', figsize = (8,8), autopct='%1.f%%', ylabel = \"\", colors=['lightgreen','red']).set_xlabel('label', fontsize=14)"
      ],
      "execution_count": null,
      "outputs": [
        {
          "output_type": "execute_result",
          "data": {
            "text/plain": [
              "Text(0.5, 0, 'label')"
            ]
          },
          "metadata": {},
          "execution_count": 7
        },
        {
          "output_type": "display_data",
          "data": {
            "text/plain": [
              "<Figure size 576x576 with 1 Axes>"
            ],
            "image/png": "[encoded data removed]"
          },
          "metadata": {}
        }
      ]
    },
    {
      "cell_type": "markdown",
      "metadata": {
        "id": "1vTZcW-oHHJR"
      },
      "source": [
        "We see that in the above 88% of the data is hate and 12% of the \n",
        "data is non-hate."
      ]
    },
    {
      "cell_type": "code",
      "metadata": {
        "id": "KVhb-GWLkKYb"
      },
      "source": [
        "# total number of words and characters in each text\n",
        "df['num_words'] = df['text'].str.split().str.len()\n",
        "df['num_char'] = df['text'].str.len()"
      ],
      "execution_count": null,
      "outputs": []
    },
    {
      "cell_type": "code",
      "metadata": {
        "colab": {
          "base_uri": "https://localhost:8080/",
          "height": 206
        },
        "id": "cy-OR4-SlVvN",
        "outputId": "5e92f1b8-249d-4cb5-a507-867aad1f7ead"
      },
      "source": [
        "df.head()"
      ],
      "execution_count": null,
      "outputs": [
        {
          "output_type": "execute_result",
          "data": {
            "text/plain": [
              "    textid  \\\n",
              "0  1100000   \n",
              "1  1100001   \n",
              "2  1100003   \n",
              "3  1100004   \n",
              "4  1100005   \n",
              "\n",
              "                                                                                                                    text  \\\n",
              "0                                           1 . knew he was gettin pussy later 2 . he yakked 3 . you look stoned as hell   \n",
              "1  your girl's hoe friends gonna gas her to cheat on you. a tall nigga with abs start stroking on her in the club & they   \n",
              "2                                                                                stick to hockey faggot. you're finished   \n",
              "3                                                                all y'all dudes that just favorite this is a faggot smh   \n",
              "4                                                                      you hang out with a hoe you gonna turn into a hoe   \n",
              "\n",
              "   label  num_words  num_char  \n",
              "0      1         19        76  \n",
              "1      1         25       117  \n",
              "2      1          6        39  \n",
              "3      1         11        55  \n",
              "4      1         12        49  "
            ],
            "text/html": [
              "<div>\n",
              "<style scoped>\n",
              "    .dataframe tbody tr th:only-of-type {\n",
              "        vertical-align: middle;\n",
              "    }\n",
              "\n",
              "    .dataframe tbody tr th {\n",
              "        vertical-align: top;\n",
              "    }\n",
              "\n",
              "    .dataframe thead th {\n",
              "        text-align: right;\n",
              "    }\n",
              "</style>\n",
              "<table border=\"1\" class=\"dataframe\">\n",
              "  <thead>\n",
              "    <tr style=\"text-align: right;\">\n",
              "      <th></th>\n",
              "      <th>textid</th>\n",
              "      <th>text</th>\n",
              "      <th>label</th>\n",
              "      <th>num_words</th>\n",
              "      <th>num_char</th>\n",
              "    </tr>\n",
              "  </thead>\n",
              "  <tbody>\n",
              "    <tr>\n",
              "      <th>0</th>\n",
              "      <td>1100000</td>\n",
              "      <td>1 . knew he was gettin pussy later 2 . he yakked 3 . you look stoned as hell</td>\n",
              "      <td>1</td>\n",
              "      <td>19</td>\n",
              "      <td>76</td>\n",
              "    </tr>\n",
              "    <tr>\n",
              "      <th>1</th>\n",
              "      <td>1100001</td>\n",
              "      <td>your girl's hoe friends gonna gas her to cheat on you. a tall nigga with abs start stroking on her in the club &amp; they</td>\n",
              "      <td>1</td>\n",
              "      <td>25</td>\n",
              "      <td>117</td>\n",
              "    </tr>\n",
              "    <tr>\n",
              "      <th>2</th>\n",
              "      <td>1100003</td>\n",
              "      <td>stick to hockey faggot. you're finished</td>\n",
              "      <td>1</td>\n",
              "      <td>6</td>\n",
              "      <td>39</td>\n",
              "    </tr>\n",
              "    <tr>\n",
              "      <th>3</th>\n",
              "      <td>1100004</td>\n",
              "      <td>all y'all dudes that just favorite this is a faggot smh</td>\n",
              "      <td>1</td>\n",
              "      <td>11</td>\n",
              "      <td>55</td>\n",
              "    </tr>\n",
              "    <tr>\n",
              "      <th>4</th>\n",
              "      <td>1100005</td>\n",
              "      <td>you hang out with a hoe you gonna turn into a hoe</td>\n",
              "      <td>1</td>\n",
              "      <td>12</td>\n",
              "      <td>49</td>\n",
              "    </tr>\n",
              "  </tbody>\n",
              "</table>\n",
              "</div>"
            ]
          },
          "metadata": {},
          "execution_count": 9
        }
      ]
    },
    {
      "cell_type": "code",
      "metadata": {
        "colab": {
          "base_uri": "https://localhost:8080/",
          "height": 478
        },
        "id": "jyMq-GipnvzY",
        "outputId": "9af3b48d-e9e7-4fe5-f663-e5ffb2b266e5"
      },
      "source": [
        "df['num_words'].plot(kind= 'kde',figsize=(7,7), xlim=(0, 200),title=\"Distribution of number of words\").set_xlabel('Number of words', fontsize=12)"
      ],
      "execution_count": null,
      "outputs": [
        {
          "output_type": "execute_result",
          "data": {
            "text/plain": [
              "Text(0.5, 0, 'Number of words')"
            ]
          },
          "metadata": {},
          "execution_count": 10
        },
        {
          "output_type": "display_data",
          "data": {
            "text/plain": [
              "<Figure size 504x504 with 1 Axes>"
            ],
            "image/png": "[encoded data removed]"
          },
          "metadata": {
            "needs_background": "light"
          }
        }
      ]
    },
    {
      "cell_type": "markdown",
      "metadata": {
        "id": "mpAlP2SY9oUa"
      },
      "source": [
        "We see that the majority of the texts have less than 25 words"
      ]
    },
    {
      "cell_type": "code",
      "metadata": {
        "colab": {
          "base_uri": "https://localhost:8080/",
          "height": 478
        },
        "id": "rwGiRogMtA4j",
        "outputId": "14487166-266f-4f2c-fb31-93cff7e14138"
      },
      "source": [
        "df['num_char'].plot(kind= 'kde',figsize=(7,7), xlim=(0, 2000),title=\"Distribution of number of characters\").set_xlabel('Number of characters', fontsize=12)"
      ],
      "execution_count": null,
      "outputs": [
        {
          "output_type": "execute_result",
          "data": {
            "text/plain": [
              "Text(0.5, 0, 'Number of characters')"
            ]
          },
          "metadata": {},
          "execution_count": 11
        },
        {
          "output_type": "display_data",
          "data": {
            "text/plain": [
              "<Figure size 504x504 with 1 Axes>"
            ],
            "image/png": "[encoded data removed]"
          },
          "metadata": {
            "needs_background": "light"
          }
        }
      ]
    },
    {
      "cell_type": "markdown",
      "metadata": {
        "id": "NssrHqt2AYeZ"
      },
      "source": [
        "We see that the majority of the texts have less than 250 characters"
      ]
    },
    {
      "cell_type": "markdown",
      "metadata": {
        "id": "vKpPHaZAAJka"
      },
      "source": [
        "# Hate proportion"
      ]
    },
    {
      "cell_type": "code",
      "metadata": {
        "id": "w5jN42botfN_"
      },
      "source": [
        "female = ['woman', 'women', r'\\b(she)\\b', r'\\b(her)\\b', 'herself', 'girl', 'wife', 'mother', 'sister', 'daughter']\n",
        "male = [r'\\b(man)\\b', r'\\b(men)\\b', r'\\b(he)\\b', r'\\b(him)\\b', r'\\b(his)\\b', 'himself', 'boy', 'husband', 'father', 'brother', r'\\b(son)\\b']\n",
        "\n",
        "lgbtq = [r'g+a+y+', 'lesbian', r'q+u+e+r+', 'bisexual', 'trans-sexual', 'trans sexual', 'trans people'] #, r'f+a+g+'\n",
        "straight = ['straight', 'heterosexual']\n",
        "\n",
        "jew = ['jew', 'yid']\n",
        "muslim = ['muslim', 'islam']\n",
        "hindu = ['hindu']\n",
        "christian = ['christian']\n",
        "\n",
        "black = ['blacks', 'black people'] #, r'n+i+g+a+h+', r'n+i+g+e+r+', r'n+i+g+a+'\n",
        "asian = ['brown people', 'asians', 'yellow people']\n",
        "latino = ['latinos', 'latinas', 'hispanic']\n",
        "white = ['whites', 'white people', 'caucasian']"
      ],
      "execution_count": null,
      "outputs": []
    },
    {
      "cell_type": "code",
      "metadata": {
        "id": "b4h96xmtvvSh",
        "colab": {
          "base_uri": "https://localhost:8080/",
          "height": 175
        },
        "outputId": "c4e1b3ec-65a3-482d-e0fb-e290c89c0950"
      },
      "source": [
        "df['female'] = df.text.str.contains('|'.join(female))*1\n",
        "df['male'] = df.text.str.contains('|'.join(male))*1\n",
        "\n",
        "df['straight'] = df.text.str.contains('|'.join(straight))*1\n",
        "df['lgbtq'] = df.text.str.contains('|'.join(lgbtq))*1\n",
        "\n",
        "df['christian'] = df.text.str.contains('|'.join(christian))*1\n",
        "df['jew'] = df.text.str.contains('|'.join(jew))*1\n",
        "df['muslim'] = df.text.str.contains('|'.join(muslim))*1\n",
        "df['hindu'] = df.text.str.contains('|'.join(hindu))*1\n",
        "\n",
        "df['white'] = df.text.str.contains('|'.join(white))*1\n",
        "df['black'] = df.text.str.contains('|'.join(black))*1\n",
        "df['asian'] = df.text.str.contains('|'.join(asian))*1\n",
        "df['latino'] = df.text.str.contains('|'.join(latino))*1\n",
        "\n",
        "a = df.drop(['textid','num_words','num_char'],axis=1).groupby('label').mean().T\n",
        "a[\"hate_proportion\"] = a[1]/a[0]\n",
        "a.T"
      ],
      "execution_count": null,
      "outputs": [
        {
          "output_type": "execute_result",
          "data": {
            "text/plain": [
              "                   female      male  straight    lgbtq  christian       jew  \\\n",
              "label                                                                         \n",
              "0                0.060759  0.132930  0.003221  0.00887   0.005203  0.008307   \n",
              "1                0.145609  0.110615  0.006285  0.07411   0.007899  0.042343   \n",
              "hate_proportion  2.396493  0.832130  1.951060  8.35471   1.517999  5.097155   \n",
              "\n",
              "                   muslim     hindu     white     black     asian    latino  \n",
              "label                                                                        \n",
              "0                0.009226  0.001716  0.006199  0.003469  0.000770  0.000788  \n",
              "1                0.045434  0.002370  0.024520  0.026821  0.006868  0.002301  \n",
              "hate_proportion  4.924425  1.380542  3.955537  7.731895  8.915784  2.918518  "
            ],
            "text/html": [
              "<div>\n",
              "<style scoped>\n",
              "    .dataframe tbody tr th:only-of-type {\n",
              "        vertical-align: middle;\n",
              "    }\n",
              "\n",
              "    .dataframe tbody tr th {\n",
              "        vertical-align: top;\n",
              "    }\n",
              "\n",
              "    .dataframe thead th {\n",
              "        text-align: right;\n",
              "    }\n",
              "</style>\n",
              "<table border=\"1\" class=\"dataframe\">\n",
              "  <thead>\n",
              "    <tr style=\"text-align: right;\">\n",
              "      <th></th>\n",
              "      <th>female</th>\n",
              "      <th>male</th>\n",
              "      <th>straight</th>\n",
              "      <th>lgbtq</th>\n",
              "      <th>christian</th>\n",
              "      <th>jew</th>\n",
              "      <th>muslim</th>\n",
              "      <th>hindu</th>\n",
              "      <th>white</th>\n",
              "      <th>black</th>\n",
              "      <th>asian</th>\n",
              "      <th>latino</th>\n",
              "    </tr>\n",
              "    <tr>\n",
              "      <th>label</th>\n",
              "      <th></th>\n",
              "      <th></th>\n",
              "      <th></th>\n",
              "      <th></th>\n",
              "      <th></th>\n",
              "      <th></th>\n",
              "      <th></th>\n",
              "      <th></th>\n",
              "      <th></th>\n",
              "      <th></th>\n",
              "      <th></th>\n",
              "      <th></th>\n",
              "    </tr>\n",
              "  </thead>\n",
              "  <tbody>\n",
              "    <tr>\n",
              "      <th>0</th>\n",
              "      <td>0.060759</td>\n",
              "      <td>0.132930</td>\n",
              "      <td>0.003221</td>\n",
              "      <td>0.00887</td>\n",
              "      <td>0.005203</td>\n",
              "      <td>0.008307</td>\n",
              "      <td>0.009226</td>\n",
              "      <td>0.001716</td>\n",
              "      <td>0.006199</td>\n",
              "      <td>0.003469</td>\n",
              "      <td>0.000770</td>\n",
              "      <td>0.000788</td>\n",
              "    </tr>\n",
              "    <tr>\n",
              "      <th>1</th>\n",
              "      <td>0.145609</td>\n",
              "      <td>0.110615</td>\n",
              "      <td>0.006285</td>\n",
              "      <td>0.07411</td>\n",
              "      <td>0.007899</td>\n",
              "      <td>0.042343</td>\n",
              "      <td>0.045434</td>\n",
              "      <td>0.002370</td>\n",
              "      <td>0.024520</td>\n",
              "      <td>0.026821</td>\n",
              "      <td>0.006868</td>\n",
              "      <td>0.002301</td>\n",
              "    </tr>\n",
              "    <tr>\n",
              "      <th>hate_proportion</th>\n",
              "      <td>2.396493</td>\n",
              "      <td>0.832130</td>\n",
              "      <td>1.951060</td>\n",
              "      <td>8.35471</td>\n",
              "      <td>1.517999</td>\n",
              "      <td>5.097155</td>\n",
              "      <td>4.924425</td>\n",
              "      <td>1.380542</td>\n",
              "      <td>3.955537</td>\n",
              "      <td>7.731895</td>\n",
              "      <td>8.915784</td>\n",
              "      <td>2.918518</td>\n",
              "    </tr>\n",
              "  </tbody>\n",
              "</table>\n",
              "</div>"
            ]
          },
          "metadata": {},
          "execution_count": 13
        }
      ]
    },
    {
      "cell_type": "markdown",
      "metadata": {
        "id": "dJcq-HLI6DUp"
      },
      "source": [
        "We see that: \n",
        "\n",
        "* The ratio of hate proportion for female to male is 2.39:0.83, which clearly shows that there is more hate towards females compared to males in the data\n",
        "\n",
        "* The ratio of hate proportion for lgbtq to straight is 8.35:1.95, which clearly shows that there is more hate towards lgbtq compared to males in the data\n",
        "\n",
        "* The ratio of hate proportion for jews (5.09) and muslims (4.9) is significantly more compared to christians (1.51) and hindus (1.38) in the data\n",
        "\n",
        "* The ratio of hate proportion for blacks (7.73), asians (8.9)  is significantly more compared to whites (3.9) and latinos (2.9) in the data"
      ]
    },
    {
      "cell_type": "markdown",
      "metadata": {
        "id": "3pEMplt-jA7b"
      },
      "source": [
        "# Building counterfactuals"
      ]
    },
    {
      "cell_type": "code",
      "metadata": {
        "id": "KyF0p0y-ie3T"
      },
      "source": [
        "# counterfactuals\n",
        "\n",
        "orientation_subs1 = {r'g+a+y+':'heterosexual', 'lesbian':'heterosexual', 'lesbo':'heterosexual', r'q+u+e+r+':'heterosexual', 'bisexual':'heterosexual', 'trans-sexual':'heterosexual'}\n",
        "orientation_subs2 = {r'g+a+y+':'straight', 'lesbian':'straight', 'lesbo':'straight', r'q+u+e+r+':'straight', 'bisexual':'straight', 'trans people':'straight people'}\n",
        "\n",
        "gender_subs1 = {'woman':'man', 'women':'men', r'\\b(she)\\b':'he', r'\\b(her)\\b':'him', 'herself':'himself', 'girl':'boy', 'wife':'husband', 'mother':'father', 'sister':'brother', 'daughter':'son'}\n",
        "gender_subs2 = {r'\\b(man)\\b': 'woman', r'\\b(men)\\b': 'women', r'\\b(he)\\b': 'she', r'\\b(his)\\b': 'her', r'\\b(him)\\b': 'her', 'himself': 'herself', 'boy': 'girl', 'husband': 'wife', 'father': 'mother', 'brother': 'sister', r'\\b(son)\\b': 'daughter'}\n",
        "\n",
        "religion_subs1 = {'muslim':'christian', 'jewish':'christian', 'jew':'christian', 'hindu':'christian', 'islamic':'christian', 'islam':'christianity', 'yids':'christians'}\n",
        "religion_subs2 = {'muslim':'hindu', 'jewish':'hindu', 'jew':'hindu', 'christianity':'hinduism', 'christian':'hindu', r'yids':'hindus'}\n",
        "religion_subs3 = {'jewish':'muslim', 'hindu':'muslim', 'christianity':'islam', 'christian':'muslim', 'yids':'muslims'}\n",
        "religion_subs4 = {'muslim':'jew', 'hindu':'jew', 'christianity':'judiasm', 'christian':'jew', 'islam':'judiasm'}\n",
        "\n",
        "race_subs1 = {'blacks':'caucasians', 'black people':'white people', 'asian':'white', 'oriental':'white', 'arab':'white', 'latino':'white', 'hispanic':'white', 'refugee':'white', 'foreigner':'white', 'immigrant':'white', 'migrant':'white', 'africa':'america', 'asia':'america'}\n",
        "race_subs2 = {'blacks':'asians', 'black people':'yellow people', 'arab':'asian', 'refugee':'asian', 'foreigner':'asian', 'immigrant':'asian', 'migrant':'asian', 'africa':'asia'}\n",
        "race_subs3 = {'blacks':'hispanics', 'asian':'hispanic', 'oriental':'hispanic', 'arab':'hispanic', 'refugee':'hispanic', 'foreigner':'hispanic', 'immigrant':'hispanic', 'migrant':'hispanic', 'africa':'south america', 'asia':'south america'}\n",
        "race_subs4 = {'blacks':'native americans', 'black people':'indigenous people'}\n",
        "race_subs5 = {'black people':'brown people'}\n",
        "race_subs6 = {'asian':'black', 'arab':'black', 'refugee':'black', 'foreigner':'black', 'immigrant':'black', 'migrant':'black'}\n",
        "race_subs7 = {'white':'black'}\n",
        "race_subs8 = {'white':'brown'}\n",
        "\n",
        "subs = [gender_subs1, gender_subs2, orientation_subs1, orientation_subs2,\n",
        "        religion_subs1, religion_subs2, religion_subs3, religion_subs4,\n",
        "        race_subs1, race_subs2, race_subs3, race_subs4, race_subs5, race_subs6, race_subs7, race_subs8]"
      ],
      "execution_count": null,
      "outputs": []
    },
    {
      "cell_type": "code",
      "metadata": {
        "id": "w7XoJs9mmIqM",
        "colab": {
          "base_uri": "https://localhost:8080/"
        },
        "outputId": "3baa6930-bcb2-4478-fa56-4627e5c29b1d"
      },
      "source": [
        "%%time\n",
        "\n",
        "df = pd.read_csv(\"hate_speech_english.csv\")\n",
        "\n",
        "df['variant'] = 0\n",
        "\n",
        "dfs = [df]\n",
        "\n",
        "for i,sub in enumerate(subs):\n",
        "  df1 = df.copy()\n",
        "  df1['text'] = df1['text'].replace(sub, regex=True)\n",
        "  df1['variant'] = i+1\n",
        "  dfs.append(df1)\n",
        "\n",
        "df_all = pd.concat(dfs).sort_values('variant').drop_duplicates('text').sort_values('textid')\n",
        "\n",
        "df_all['text'] = df_all['text'].parallel_apply(text_cleanup)\n",
        "\n",
        "df_all.to_csv('hate_speech_eng_cf.csv', index=False)\n",
        "\n",
        "df_all.info()"
      ],
      "execution_count": null,
      "outputs": [
        {
          "output_type": "stream",
          "name": "stdout",
          "text": [
            "<class 'pandas.core.frame.DataFrame'>\n",
            "Int64Index: 382654 entries, 0 to 251092\n",
            "Data columns (total 4 columns):\n",
            " #   Column   Non-Null Count   Dtype \n",
            "---  ------   --------------   ----- \n",
            " 0   textid   382654 non-null  int64 \n",
            " 1   text     382654 non-null  object\n",
            " 2   label    382654 non-null  int64 \n",
            " 3   variant  382654 non-null  int64 \n",
            "dtypes: int64(3), object(1)\n",
            "memory usage: 14.6+ MB\n",
            "CPU times: user 1min 20s, sys: 1.77 s, total: 1min 22s\n",
            "Wall time: 4min 1s\n"
          ]
        }
      ]
    },
    {
      "cell_type": "code",
      "metadata": {
        "id": "sbTCp9PtuuXp",
        "colab": {
          "base_uri": "https://localhost:8080/",
          "height": 206
        },
        "outputId": "a88ff68b-b423-4f12-f03b-bd386a6abf5d"
      },
      "source": [
        "df_all.head()"
      ],
      "execution_count": null,
      "outputs": [
        {
          "output_type": "execute_result",
          "data": {
            "text/plain": [
              "    textid  \\\n",
              "0  1100000   \n",
              "0  1100000   \n",
              "1  1100001   \n",
              "1  1100001   \n",
              "2  1100003   \n",
              "\n",
              "                                                                                                                    text  \\\n",
              "0                                           1 . knew he was gettin pussy later 2 . he yakked 3 . you look stoned as hell   \n",
              "0                                         1 . knew she was gettin pussy later 2 . she yakked 3 . you look stoned as hell   \n",
              "1   your boy's hoe friends gonna gas him to cheat on you. a tall nigga with abs start stroking on him in the club & they   \n",
              "1  your girl's hoe friends gonna gas her to cheat on you. a tall nigga with abs start stroking on her in the club & they   \n",
              "2                                                                                stick to hockey faggot. you're finished   \n",
              "\n",
              "   label  variant  \n",
              "0      1        0  \n",
              "0      1        2  \n",
              "1      1        1  \n",
              "1      1        0  \n",
              "2      1        0  "
            ],
            "text/html": [
              "<div>\n",
              "<style scoped>\n",
              "    .dataframe tbody tr th:only-of-type {\n",
              "        vertical-align: middle;\n",
              "    }\n",
              "\n",
              "    .dataframe tbody tr th {\n",
              "        vertical-align: top;\n",
              "    }\n",
              "\n",
              "    .dataframe thead th {\n",
              "        text-align: right;\n",
              "    }\n",
              "</style>\n",
              "<table border=\"1\" class=\"dataframe\">\n",
              "  <thead>\n",
              "    <tr style=\"text-align: right;\">\n",
              "      <th></th>\n",
              "      <th>textid</th>\n",
              "      <th>text</th>\n",
              "      <th>label</th>\n",
              "      <th>variant</th>\n",
              "    </tr>\n",
              "  </thead>\n",
              "  <tbody>\n",
              "    <tr>\n",
              "      <th>0</th>\n",
              "      <td>1100000</td>\n",
              "      <td>1 . knew he was gettin pussy later 2 . he yakked 3 . you look stoned as hell</td>\n",
              "      <td>1</td>\n",
              "      <td>0</td>\n",
              "    </tr>\n",
              "    <tr>\n",
              "      <th>0</th>\n",
              "      <td>1100000</td>\n",
              "      <td>1 . knew she was gettin pussy later 2 . she yakked 3 . you look stoned as hell</td>\n",
              "      <td>1</td>\n",
              "      <td>2</td>\n",
              "    </tr>\n",
              "    <tr>\n",
              "      <th>1</th>\n",
              "      <td>1100001</td>\n",
              "      <td>your boy's hoe friends gonna gas him to cheat on you. a tall nigga with abs start stroking on him in the club &amp; they</td>\n",
              "      <td>1</td>\n",
              "      <td>1</td>\n",
              "    </tr>\n",
              "    <tr>\n",
              "      <th>1</th>\n",
              "      <td>1100001</td>\n",
              "      <td>your girl's hoe friends gonna gas her to cheat on you. a tall nigga with abs start stroking on her in the club &amp; they</td>\n",
              "      <td>1</td>\n",
              "      <td>0</td>\n",
              "    </tr>\n",
              "    <tr>\n",
              "      <th>2</th>\n",
              "      <td>1100003</td>\n",
              "      <td>stick to hockey faggot. you're finished</td>\n",
              "      <td>1</td>\n",
              "      <td>0</td>\n",
              "    </tr>\n",
              "  </tbody>\n",
              "</table>\n",
              "</div>"
            ]
          },
          "metadata": {},
          "execution_count": 18
        }
      ]
    },
    {
      "cell_type": "code",
      "metadata": {
        "colab": {
          "base_uri": "https://localhost:8080/",
          "height": 175
        },
        "id": "ZA9cjCTJQzcc",
        "outputId": "76dc24cb-8d84-4e1e-fab2-1108853fd6bc"
      },
      "source": [
        "df = df_all.copy()\n",
        "\n",
        "df['female'] = df.text.str.contains('|'.join(female))*1\n",
        "df['male'] = df.text.str.contains('|'.join(male))*1\n",
        "\n",
        "df['straight'] = df.text.str.contains('|'.join(straight))*1\n",
        "df['lgbtq'] = df.text.str.contains('|'.join(lgbtq))*1\n",
        "\n",
        "df['christian'] = df.text.str.contains('|'.join(christian))*1\n",
        "df['jew'] = df.text.str.contains('|'.join(jew))*1\n",
        "df['muslim'] = df.text.str.contains('|'.join(muslim))*1\n",
        "df['hindu'] = df.text.str.contains('|'.join(hindu))*1\n",
        "\n",
        "df['white'] = df.text.str.contains('|'.join(white))*1\n",
        "df['black'] = df.text.str.contains('|'.join(black))*1\n",
        "df['asian'] = df.text.str.contains('|'.join(asian))*1\n",
        "df['latino'] = df.text.str.contains('|'.join(latino))*1\n",
        "\n",
        "a = df.drop(['textid','variant'],axis=1).groupby('label').mean().T\n",
        "a[\"hate_proportion\"] = a[1]/a[0]\n",
        "a.T"
      ],
      "execution_count": null,
      "outputs": [
        {
          "output_type": "execute_result",
          "data": {
            "text/plain": [
              "                   female      male  straight     lgbtq  christian       jew  \\\n",
              "label                                                                          \n",
              "0                0.148887  0.162541  0.015967  0.009912   0.019173  0.019441   \n",
              "1                0.152014  0.159074  0.073194  0.052490   0.046571  0.063358   \n",
              "hate_proportion  1.021004  0.978674  4.584125  5.295449   2.428934  3.259043   \n",
              "\n",
              "                   muslim     hindu     white     black     asian    latino  \n",
              "label                                                                        \n",
              "0                0.019888  0.014183  0.016058  0.014403  0.013824  0.015281  \n",
              "1                0.049870  0.038678  0.067521  0.061262  0.058826  0.046879  \n",
              "hate_proportion  2.507572  2.727152  4.204794  4.253468  4.255429  3.067849  "
            ],
            "text/html": [
              "<div>\n",
              "<style scoped>\n",
              "    .dataframe tbody tr th:only-of-type {\n",
              "        vertical-align: middle;\n",
              "    }\n",
              "\n",
              "    .dataframe tbody tr th {\n",
              "        vertical-align: top;\n",
              "    }\n",
              "\n",
              "    .dataframe thead th {\n",
              "        text-align: right;\n",
              "    }\n",
              "</style>\n",
              "<table border=\"1\" class=\"dataframe\">\n",
              "  <thead>\n",
              "    <tr style=\"text-align: right;\">\n",
              "      <th></th>\n",
              "      <th>female</th>\n",
              "      <th>male</th>\n",
              "      <th>straight</th>\n",
              "      <th>lgbtq</th>\n",
              "      <th>christian</th>\n",
              "      <th>jew</th>\n",
              "      <th>muslim</th>\n",
              "      <th>hindu</th>\n",
              "      <th>white</th>\n",
              "      <th>black</th>\n",
              "      <th>asian</th>\n",
              "      <th>latino</th>\n",
              "    </tr>\n",
              "    <tr>\n",
              "      <th>label</th>\n",
              "      <th></th>\n",
              "      <th></th>\n",
              "      <th></th>\n",
              "      <th></th>\n",
              "      <th></th>\n",
              "      <th></th>\n",
              "      <th></th>\n",
              "      <th></th>\n",
              "      <th></th>\n",
              "      <th></th>\n",
              "      <th></th>\n",
              "      <th></th>\n",
              "    </tr>\n",
              "  </thead>\n",
              "  <tbody>\n",
              "    <tr>\n",
              "      <th>0</th>\n",
              "      <td>0.148887</td>\n",
              "      <td>0.162541</td>\n",
              "      <td>0.015967</td>\n",
              "      <td>0.009912</td>\n",
              "      <td>0.019173</td>\n",
              "      <td>0.019441</td>\n",
              "      <td>0.019888</td>\n",
              "      <td>0.014183</td>\n",
              "      <td>0.016058</td>\n",
              "      <td>0.014403</td>\n",
              "      <td>0.013824</td>\n",
              "      <td>0.015281</td>\n",
              "    </tr>\n",
              "    <tr>\n",
              "      <th>1</th>\n",
              "      <td>0.152014</td>\n",
              "      <td>0.159074</td>\n",
              "      <td>0.073194</td>\n",
              "      <td>0.052490</td>\n",
              "      <td>0.046571</td>\n",
              "      <td>0.063358</td>\n",
              "      <td>0.049870</td>\n",
              "      <td>0.038678</td>\n",
              "      <td>0.067521</td>\n",
              "      <td>0.061262</td>\n",
              "      <td>0.058826</td>\n",
              "      <td>0.046879</td>\n",
              "    </tr>\n",
              "    <tr>\n",
              "      <th>hate_proportion</th>\n",
              "      <td>1.021004</td>\n",
              "      <td>0.978674</td>\n",
              "      <td>4.584125</td>\n",
              "      <td>5.295449</td>\n",
              "      <td>2.428934</td>\n",
              "      <td>3.259043</td>\n",
              "      <td>2.507572</td>\n",
              "      <td>2.727152</td>\n",
              "      <td>4.204794</td>\n",
              "      <td>4.253468</td>\n",
              "      <td>4.255429</td>\n",
              "      <td>3.067849</td>\n",
              "    </tr>\n",
              "  </tbody>\n",
              "</table>\n",
              "</div>"
            ]
          },
          "metadata": {},
          "execution_count": 19
        }
      ]
    },
    {
      "cell_type": "markdown",
      "metadata": {
        "id": "rJbhS3QxwRft"
      },
      "source": [
        "# Sentence Embeddings"
      ]
    },
    {
      "cell_type": "code",
      "metadata": {
        "id": "pyIiSxx8wJt3"
      },
      "source": [
        "vect_model = SentenceTransformer('paraphrase-multilingual-mpnet-base-v2') #multi-lingual language model"
      ],
      "execution_count": 4,
      "outputs": []
    },
    {
      "cell_type": "markdown",
      "metadata": {
        "id": "MAgfNOGEcaDJ"
      },
      "source": [
        "# Splitting the data into train and test sets"
      ]
    },
    {
      "cell_type": "code",
      "metadata": {
        "id": "srznCtSAwtb-"
      },
      "source": [
        "# Splitting the dataset (df) into train and validation sets\n",
        "df = pd.read_csv('hate_speech_eng_cf.csv')\n",
        "df_train, df_test = train_test_split(df, train_size=0.8, random_state=9713)"
      ],
      "execution_count": null,
      "outputs": []
    },
    {
      "cell_type": "markdown",
      "metadata": {
        "id": "eXaVjddjclSA"
      },
      "source": [
        "# Text Vectorization"
      ]
    },
    {
      "cell_type": "code",
      "metadata": {
        "id": "O33QkOYYxEQP",
        "colab": {
          "base_uri": "https://localhost:8080/"
        },
        "outputId": "483d76f5-80e7-4d2b-f0cf-1d89f989cf31"
      },
      "source": [
        "%%time\n",
        "\n",
        "X_train, y_train = CleanupAndVectorize(df_train, vect_model)\n",
        "pickle.dump(X_train, open('X_train_hs_xlm.pkl', 'wb'), protocol=4)\n",
        "pickle.dump(y_train, open('y_train_hs_xlm.pkl', 'wb'))\n",
        "\n",
        "X_test, y_test = CleanupAndVectorize(df_test, vect_model)\n",
        "pickle.dump(X_test, open('X_test_hs_xlm.pkl', 'wb'), protocol=4)\n",
        "pickle.dump(y_test, open('y_test_hs_xlm.pkl', 'wb'))"
      ],
      "execution_count": null,
      "outputs": [
        {
          "output_type": "stream",
          "name": "stdout",
          "text": [
            "CPU times: user 2d 21h 47min 48s, sys: 6h 46min 31s, total: 3d 4h 34min 20s\n",
            "Wall time: 9h 53min 18s\n"
          ]
        }
      ]
    },
    {
      "cell_type": "code",
      "metadata": {
        "id": "ImEKRct3yJnZ",
        "colab": {
          "base_uri": "https://localhost:8080/"
        },
        "outputId": "f491c563-a1b6-42d8-b0cd-80a8e2e8c784"
      },
      "source": [
        "%%time\n",
        "X_train = pickle.load(open('X_train_hs_xlm.pkl', 'rb'))\n",
        "y_train = pickle.load(open('y_train_hs_xlm.pkl', 'rb'))\n",
        "\n",
        "X_test = pickle.load(open('X_test_hs_xlm.pkl', 'rb'))\n",
        "y_test = pickle.load(open('y_test_hs_xlm.pkl', 'rb'))\n",
        "\n",
        "y_train.mean(), y_test.mean()"
      ],
      "execution_count": 5,
      "outputs": [
        {
          "output_type": "stream",
          "name": "stdout",
          "text": [
            "CPU times: user 313 ms, sys: 1.18 s, total: 1.49 s\n",
            "Wall time: 1.49 s\n"
          ]
        },
        {
          "output_type": "execute_result",
          "data": {
            "text/plain": [
              "(0.16910849560470792, 0.17118553265996786)"
            ]
          },
          "metadata": {},
          "execution_count": 5
        }
      ]
    },
    {
      "cell_type": "markdown",
      "metadata": {
        "id": "_sFn14czfafw"
      },
      "source": [
        "# Model Building"
      ]
    },
    {
      "cell_type": "markdown",
      "metadata": {
        "id": "5duvqNCM0HKt"
      },
      "source": [
        "# Logistic Regression"
      ]
    },
    {
      "cell_type": "code",
      "metadata": {
        "id": "hMmdeLyomRzO",
        "colab": {
          "base_uri": "https://localhost:8080/"
        },
        "outputId": "48e6b5e9-58f1-4f22-895a-dbb4d343aabe"
      },
      "source": [
        "%%time\n",
        "# GridSearchCV for Logistic Regression\n",
        "\n",
        "hyper_params_cv_lr = {'class_weight': ['balanced', None],\n",
        "                      'penalty': ['l1', 'l2', 'elasticnet'],\n",
        "                      'C': [0.001, 0.01, 0.1, 1, 10, 100, 1000]}\n",
        "\n",
        "\n",
        "model = GridSearchCV(estimator=LogisticRegression(), \n",
        "                     param_grid=hyper_params_cv_lr,\n",
        "                     verbose=1,\n",
        "                     cv=3, \n",
        "                     scoring = \"f1\",\n",
        "                     n_jobs = -1,\n",
        "                     return_train_score=True)\n",
        "\n",
        "model.fit(X_train, y_train)\n",
        "\n",
        "print(model.best_params_)"
      ],
      "execution_count": null,
      "outputs": [
        {
          "output_type": "stream",
          "name": "stdout",
          "text": [
            "Fitting 3 folds for each of 42 candidates, totalling 126 fits\n",
            "{'C': 100, 'class_weight': None, 'penalty': 'l2'}\n",
            "CPU times: user 1min 25s, sys: 2.18 s, total: 1min 27s\n",
            "Wall time: 1min 52s\n"
          ]
        }
      ]
    },
    {
      "cell_type": "code",
      "metadata": {
        "id": "X-6cVj7y0Gjo",
        "colab": {
          "base_uri": "https://localhost:8080/"
        },
        "outputId": "8fe90ea1-6d6b-4050-985e-6e53f01f3205"
      },
      "source": [
        "%%time\n",
        "model  = LogisticRegression(C=100, class_weight=None, penalty='l2', random_state=9713)\n",
        "model.fit(X_train, y_train)\n",
        "\n",
        "y_pred_train = model.predict_proba(X_train)[:,1].round(3)\n",
        "print(classification_report(y_train, (y_pred_train>=0.5)*1), '\\n')\n",
        "print(confusion_matrix(y_train, (y_pred_train>=0.5)*1))"
      ],
      "execution_count": null,
      "outputs": [
        {
          "output_type": "stream",
          "name": "stdout",
          "text": [
            "              precision    recall  f1-score   support\n",
            "\n",
            "           0       0.95      0.97      0.96    254355\n",
            "           1       0.81      0.74      0.78     51768\n",
            "\n",
            "    accuracy                           0.93    306123\n",
            "   macro avg       0.88      0.86      0.87    306123\n",
            "weighted avg       0.93      0.93      0.93    306123\n",
            " \n",
            "\n",
            "[[245591   8764]\n",
            " [ 13211  38557]]\n",
            "CPU times: user 1min 28s, sys: 1.74 s, total: 1min 30s\n",
            "Wall time: 7.19 s\n"
          ]
        }
      ]
    },
    {
      "cell_type": "code",
      "metadata": {
        "id": "YZ-Okpdb0esT",
        "colab": {
          "base_uri": "https://localhost:8080/"
        },
        "outputId": "3daa913c-d6e2-43fa-cbb1-22b8eceb3258"
      },
      "source": [
        "y_pred_test = model.predict_proba(X_test)[:,1].round(3)\n",
        "print(classification_report(y_test, (y_pred_test>=0.5)*1), '\\n')\n",
        "print(confusion_matrix(y_test, (y_pred_test>=0.5)*1))"
      ],
      "execution_count": null,
      "outputs": [
        {
          "output_type": "stream",
          "name": "stdout",
          "text": [
            "              precision    recall  f1-score   support\n",
            "\n",
            "           0       0.95      0.96      0.96     63430\n",
            "           1       0.81      0.73      0.77     13101\n",
            "\n",
            "    accuracy                           0.93     76531\n",
            "   macro avg       0.88      0.85      0.86     76531\n",
            "weighted avg       0.92      0.93      0.92     76531\n",
            " \n",
            "\n",
            "[[61180  2250]\n",
            " [ 3486  9615]]\n"
          ]
        }
      ]
    },
    {
      "cell_type": "markdown",
      "metadata": {
        "id": "pP3wGip1z1u9"
      },
      "source": [
        "# Random Forest Classifier"
      ]
    },
    {
      "cell_type": "code",
      "metadata": {
        "id": "yGwYaVAIgM3U",
        "colab": {
          "base_uri": "https://localhost:8080/"
        },
        "outputId": "d28cf105-eea9-4185-a110-e35948c1c395"
      },
      "source": [
        "%%time\n",
        "# GridSearchCV for Random Forest Classifier\n",
        "\n",
        "hyper_params_cv_rf = {'max_features': [0.05, 0.10, 0.25],\n",
        "                      'min_samples_leaf': [5, 13, 21, 35]}\n",
        "\n",
        "\n",
        "model = GridSearchCV(estimator=RandomForestClassifier(n_jobs=-1), \n",
        "                     param_grid=hyper_params_cv_rf,\n",
        "                     verbose=1,\n",
        "                     cv=3,\n",
        "                     scoring = \"f1\",\n",
        "                     n_jobs=-1,\n",
        "                     return_train_score=True)\n",
        "\n",
        "model.fit(X_train, y_train)\n",
        "\n",
        "print(model.best_params_)"
      ],
      "execution_count": null,
      "outputs": [
        {
          "output_type": "stream",
          "name": "stdout",
          "text": [
            "Fitting 3 folds for each of 12 candidates, totalling 36 fits\n",
            "{'max_features': 0.25, 'min_samples_leaf': 5}\n",
            "CPU times: user 6h 11min 22s, sys: 1.4 s, total: 6h 11min 24s\n",
            "Wall time: 1h 57min 38s\n"
          ]
        }
      ]
    },
    {
      "cell_type": "code",
      "metadata": {
        "id": "JPMVxFntzCUm",
        "colab": {
          "base_uri": "https://localhost:8080/"
        },
        "outputId": "b0fd115a-31da-4142-bc22-806179fdfb4e"
      },
      "source": [
        "%%time\n",
        "model = RandomForestClassifier(max_features=0.25, min_samples_leaf=5, n_jobs=-1, random_state=9713) # max_features=0.05, min_samples_leaf=49, n_estimators=199\n",
        "model.fit(X_train, y_train)\n",
        "\n",
        "y_pred_train = model.predict_proba(X_train)[:,1].round(3)\n",
        "print(classification_report(y_train, (y_pred_train>=0.5)*1), '\\n')\n",
        "print(confusion_matrix(y_train, (y_pred_train>=0.5)*1))"
      ],
      "execution_count": null,
      "outputs": [
        {
          "output_type": "stream",
          "name": "stdout",
          "text": [
            "              precision    recall  f1-score   support\n",
            "\n",
            "           0       0.99      1.00      1.00    254355\n",
            "           1       1.00      0.96      0.98     51768\n",
            "\n",
            "    accuracy                           0.99    306123\n",
            "   macro avg       0.99      0.98      0.99    306123\n",
            "weighted avg       0.99      0.99      0.99    306123\n",
            " \n",
            "\n",
            "[[254193    162]\n",
            " [  2207  49561]]\n",
            "CPU times: user 8h 40s, sys: 0 ns, total: 8h 40s\n",
            "Wall time: 41min 42s\n"
          ]
        }
      ]
    },
    {
      "cell_type": "code",
      "metadata": {
        "id": "QQnmZ4VozOUr",
        "colab": {
          "base_uri": "https://localhost:8080/"
        },
        "outputId": "b27763bd-a4ab-4475-88b7-d0cc943a809d"
      },
      "source": [
        "y_pred_test = model.predict_proba(X_test)[:,1].round(3)\n",
        "print(classification_report(y_test, (y_pred_test>=0.5)*1), '\\n')\n",
        "print(confusion_matrix(y_test, (y_pred_test>=0.5)*1))"
      ],
      "execution_count": null,
      "outputs": [
        {
          "output_type": "stream",
          "name": "stdout",
          "text": [
            "              precision    recall  f1-score   support\n",
            "\n",
            "           0       0.93      0.98      0.96     63430\n",
            "           1       0.89      0.65      0.75     13101\n",
            "\n",
            "    accuracy                           0.93     76531\n",
            "   macro avg       0.91      0.82      0.85     76531\n",
            "weighted avg       0.92      0.93      0.92     76531\n",
            " \n",
            "\n",
            "[[62368  1062]\n",
            " [ 4618  8483]]\n"
          ]
        }
      ]
    },
    {
      "cell_type": "markdown",
      "metadata": {
        "id": "T7UUenShzxQQ"
      },
      "source": [
        "# Gradient Boosting"
      ]
    },
    {
      "cell_type": "code",
      "metadata": {
        "id": "UYf-1BC2hB4U",
        "colab": {
          "base_uri": "https://localhost:8080/"
        },
        "outputId": "bea6e6e8-96bb-4bbe-89ad-839fae02f70f"
      },
      "source": [
        "%%time\n",
        "\n",
        "# GridSearchCV for XGboost Classifier\n",
        "\n",
        "hyper_params_cv_xgb = {'max_depth': [5, 25, 50, 100],\n",
        "                      'n_estimators': [250, 500, 1000]}\n",
        "\n",
        "\n",
        "model = GridSearchCV(estimator=XGBClassifier(verbosity=0, silent=True, use_label_encoder=False), \n",
        "                     param_grid=hyper_params_cv_xgb,\n",
        "                     verbose=1,\n",
        "                     cv=3, \n",
        "                     scoring = \"f1\",\n",
        "                     n_jobs = -1,\n",
        "                     return_train_score=True)\n",
        "\n",
        "model.fit(X_train, y_train)\n",
        "\n",
        "print(model.best_params_)"
      ],
      "execution_count": null,
      "outputs": [
        {
          "output_type": "stream",
          "name": "stdout",
          "text": [
            "Fitting 3 folds for each of 12 candidates, totalling 36 fits\n",
            "{'max_depth': 5, 'n_estimators': 1000}\n",
            "CPU times: user 11h 45min 21s, sys: 37.7 s, total: 11h 45min 59s\n",
            "Wall time: 6h 54min 28s\n"
          ]
        }
      ]
    },
    {
      "cell_type": "code",
      "metadata": {
        "id": "ZDgRGb9qzwLb",
        "colab": {
          "base_uri": "https://localhost:8080/"
        },
        "outputId": "faa75cee-7926-44a4-896a-a31b93daf71b"
      },
      "source": [
        "%%time\n",
        "model  = XGBClassifier(max_depth=5, n_estimators=1000, n_jobs=-1, random_state=9713)\n",
        "model.fit(X_train, y_train)\n",
        "\n",
        "y_pred_train = model.predict_proba(X_train)[:,1].round(3)\n",
        "print(classification_report(y_train, (y_pred_train>=0.5)*1), '\\n')\n",
        "print(confusion_matrix(y_train, (y_pred_train>=0.5)*1))"
      ],
      "execution_count": null,
      "outputs": [
        {
          "output_type": "stream",
          "name": "stdout",
          "text": [
            "[16:11:33] WARNING: /home/conda/feedstock_root/build_artifacts/xgboost-split_1637426272325/work/src/learner.cc:1115: Starting in XGBoost 1.3.0, the default evaluation metric used with the objective 'binary:logistic' was changed from 'error' to 'logloss'. Explicitly set eval_metric if you'd like to restore the old behavior.\n",
            "              precision    recall  f1-score   support\n",
            "\n",
            "           0       1.00      1.00      1.00    254355\n",
            "           1       1.00      1.00      1.00     51768\n",
            "\n",
            "    accuracy                           1.00    306123\n",
            "   macro avg       1.00      1.00      1.00    306123\n",
            "weighted avg       1.00      1.00      1.00    306123\n",
            " \n",
            "\n",
            "[[254344     11]\n",
            " [    12  51756]]\n",
            "CPU times: user 21h 1min 9s, sys: 0 ns, total: 21h 1min 9s\n",
            "Wall time: 1h 37min 53s\n"
          ]
        }
      ]
    },
    {
      "cell_type": "code",
      "metadata": {
        "id": "Gv_UM65M0ATr",
        "colab": {
          "base_uri": "https://localhost:8080/"
        },
        "outputId": "77226e27-9f97-4d52-b992-0b22ed705399"
      },
      "source": [
        "y_pred_test = model.predict_proba(X_test)[:,1].round(3)\n",
        "print(classification_report(y_test, (y_pred_test>=0.5)*1), '\\n')\n",
        "print(confusion_matrix(y_test, (y_pred_test>=0.5)*1))"
      ],
      "execution_count": null,
      "outputs": [
        {
          "output_type": "stream",
          "name": "stdout",
          "text": [
            "              precision    recall  f1-score   support\n",
            "\n",
            "           0       0.97      0.98      0.97     63430\n",
            "           1       0.90      0.85      0.87     13101\n",
            "\n",
            "    accuracy                           0.96     76531\n",
            "   macro avg       0.93      0.91      0.92     76531\n",
            "weighted avg       0.96      0.96      0.96     76531\n",
            " \n",
            "\n",
            "[[62155  1275]\n",
            " [ 2022 11079]]\n"
          ]
        }
      ]
    },
    {
      "cell_type": "markdown",
      "metadata": {
        "id": "wcMjvXOiVIM9"
      },
      "source": [
        "# KNN"
      ]
    },
    {
      "cell_type": "code",
      "metadata": {
        "id": "nDFTMIDWoqG3",
        "colab": {
          "base_uri": "https://localhost:8080/"
        },
        "outputId": "5e561609-d8d8-4def-a0b1-57c8bfef96be"
      },
      "source": [
        "%%time\n",
        "# GridSearchCV for KNN\n",
        "\n",
        "hyper_params_cv_knn = {'n_neighbors': [3, 7, 15, 25],\n",
        "                       'weights': ['uniform','distance']}\n",
        "\n",
        "\n",
        "model = GridSearchCV(estimator=KNeighborsClassifier(), \n",
        "                     param_grid=hyper_params_cv_knn,\n",
        "                     verbose=1,\n",
        "                     cv=3, \n",
        "                     scoring = \"f1\",\n",
        "                     n_jobs = -1,\n",
        "                     return_train_score=True)\n",
        "\n",
        "model.fit(X_train, y_train)\n",
        "\n",
        "print(model.best_params_)"
      ],
      "execution_count": null,
      "outputs": [
        {
          "output_type": "stream",
          "name": "stdout",
          "text": [
            "Fitting 3 folds for each of 8 candidates, totalling 24 fits\n",
            "{'n_neighbors': 7, 'weights': 'distance'}\n",
            "CPU times: user 598 ms, sys: 1.56 s, total: 2.16 s\n",
            "Wall time: 35min 19s\n"
          ]
        }
      ]
    },
    {
      "cell_type": "code",
      "metadata": {
        "id": "M_oFUMVoQLWC",
        "colab": {
          "base_uri": "https://localhost:8080/"
        },
        "outputId": "c64bd625-7270-4a8d-ab6d-a648321f4037"
      },
      "source": [
        "%%time\n",
        "model = KNeighborsClassifier(n_neighbors=7, weights='distance')\n",
        "model.fit(X_train, y_train)\n",
        "\n",
        "\n",
        "y_pred_train = model.predict_proba(X_train)[:,1].round(3)\n",
        "print(classification_report(y_train, (y_pred_train>=0.5)*1), '\\n')\n",
        "print(confusion_matrix(y_train, (y_pred_train>=0.5)*1))"
      ],
      "execution_count": null,
      "outputs": [
        {
          "output_type": "stream",
          "name": "stdout",
          "text": [
            "              precision    recall  f1-score   support\n",
            "\n",
            "           0       1.00      1.00      1.00    254355\n",
            "           1       1.00      1.00      1.00     51768\n",
            "\n",
            "    accuracy                           1.00    306123\n",
            "   macro avg       1.00      1.00      1.00    306123\n",
            "weighted avg       1.00      1.00      1.00    306123\n",
            " \n",
            "\n",
            "[[254347      8]\n",
            " [     0  51768]]\n",
            "CPU times: user 5h 39min 13s, sys: 14min 39s, total: 5h 53min 52s\n",
            "Wall time: 1h 21min 25s\n"
          ]
        }
      ]
    },
    {
      "cell_type": "code",
      "metadata": {
        "id": "_794u03KVqZ-",
        "colab": {
          "base_uri": "https://localhost:8080/"
        },
        "outputId": "2bee4eb0-bdac-46d0-bee4-002f0d283eae"
      },
      "source": [
        "y_pred_test = model.predict_proba(X_test)[:,1].round(3)\n",
        "print(classification_report(y_test, (y_pred_test>=0.5)*1), '\\n')\n",
        "print(confusion_matrix(y_test, (y_pred_test>=0.5)*1))"
      ],
      "execution_count": null,
      "outputs": [
        {
          "output_type": "stream",
          "name": "stdout",
          "text": [
            "              precision    recall  f1-score   support\n",
            "\n",
            "           0       0.98      0.96      0.97     63430\n",
            "           1       0.84      0.89      0.87     13101\n",
            "\n",
            "    accuracy                           0.95     76531\n",
            "   macro avg       0.91      0.93      0.92     76531\n",
            "weighted avg       0.95      0.95      0.95     76531\n",
            " \n",
            "\n",
            "[[61161  2269]\n",
            " [ 1377 11724]]\n"
          ]
        }
      ]
    },
    {
      "cell_type": "markdown",
      "metadata": {
        "id": "yuQTx1P0V4X0"
      },
      "source": [
        "# SVM"
      ]
    },
    {
      "cell_type": "code",
      "metadata": {
        "id": "kqndeK04qFzF",
        "colab": {
          "base_uri": "https://localhost:8080/"
        },
        "outputId": "a22dd587-fe93-44b0-d6c2-6088dfcfdbdc"
      },
      "source": [
        "%%time\n",
        "# GridSearchCV for SVM\n",
        "\n",
        "hyper_params_cv_svm = {'C': [0.001, 0.01, 0.1, 1, 10],\n",
        "                       'kernel': ['linear', 'poly', 'rbf', 'sigmoid'],\n",
        "                       'class_weight': ['balanced', None]}\n",
        "\n",
        "\n",
        "model = GridSearchCV(estimator=SVC(), \n",
        "                     param_grid=hyper_params_cv_svm,\n",
        "                     verbose=1,\n",
        "                     cv=3, \n",
        "                     scoring = \"f1\",\n",
        "                     n_jobs = -1,\n",
        "                     return_train_score=True)\n",
        "\n",
        "model.fit(X_train, y_train)\n",
        "\n",
        "print(model.best_params_)"
      ],
      "execution_count": null,
      "outputs": [
        {
          "output_type": "stream",
          "name": "stdout",
          "text": [
            "Fitting 3 folds for each of 40 candidates, totalling 120 fits\n",
            "{'C': 10, 'class_weight': None, 'kernel': 'rbf'}\n",
            "CPU times: user 2h 11min 21s, sys: 2.86 s, total: 2h 11min 24s\n",
            "Wall time: 1d 2h 21min 52s\n"
          ]
        }
      ]
    },
    {
      "cell_type": "code",
      "metadata": {
        "id": "jHr8WLcOWKm1",
        "colab": {
          "base_uri": "https://localhost:8080/"
        },
        "outputId": "166f24c7-21c6-454c-d9ca-af52dc7c0c51"
      },
      "source": [
        "%%time\n",
        "model = SVC(C = 10, class_weight = None, kernel = 'rbf')\n",
        "model.fit(X_train, y_train)"
      ],
      "execution_count": null,
      "outputs": [
        {
          "output_type": "stream",
          "name": "stdout",
          "text": [
            "CPU times: user 13h 25min 14s, sys: 1.68 s, total: 13h 25min 15s\n",
            "Wall time: 13h 25min 18s\n"
          ]
        },
        {
          "output_type": "execute_result",
          "data": {
            "text/plain": [
              "SVC(C=10)"
            ]
          },
          "metadata": {},
          "execution_count": 5
        }
      ]
    },
    {
      "cell_type": "code",
      "metadata": {
        "id": "YDNADCmWIDqW",
        "colab": {
          "base_uri": "https://localhost:8080/"
        },
        "outputId": "dbfb85ae-17ab-44bb-a9a5-a9a7b1299519"
      },
      "source": [
        "%%time\n",
        "y_pred_train = model.predict(X_train)\n",
        "print(classification_report(y_train, (y_pred_train>=0.5)*1), '\\n')\n",
        "print(confusion_matrix(y_train, (y_pred_train>=0.5)*1))"
      ],
      "execution_count": null,
      "outputs": [
        {
          "output_type": "stream",
          "name": "stdout",
          "text": [
            "              precision    recall  f1-score   support\n",
            "\n",
            "           0       1.00      1.00      1.00    254355\n",
            "           1       1.00      1.00      1.00     51768\n",
            "\n",
            "    accuracy                           1.00    306123\n",
            "   macro avg       1.00      1.00      1.00    306123\n",
            "weighted avg       1.00      1.00      1.00    306123\n",
            " \n",
            "\n",
            "[[254116    239]\n",
            " [   174  51594]]\n",
            "CPU times: user 3h 32min 26s, sys: 624 ms, total: 3h 32min 26s\n",
            "Wall time: 3h 32min 27s\n"
          ]
        }
      ]
    },
    {
      "cell_type": "code",
      "metadata": {
        "id": "sA75H0ETYQQA",
        "colab": {
          "base_uri": "https://localhost:8080/"
        },
        "outputId": "79f43f74-7c19-4a8d-c6ee-cbe53e1432cf"
      },
      "source": [
        "%%time\n",
        "y_pred_test = model.predict(X_test)\n",
        "print(classification_report(y_test, (y_pred_test>=0.5)*1), '\\n')\n",
        "print(confusion_matrix(y_test, (y_pred_test>=0.5)*1))"
      ],
      "execution_count": null,
      "outputs": [
        {
          "output_type": "stream",
          "name": "stdout",
          "text": [
            "              precision    recall  f1-score   support\n",
            "\n",
            "           0       0.99      0.99      0.99     63430\n",
            "           1       0.95      0.95      0.95     13101\n",
            "\n",
            "    accuracy                           0.98     76531\n",
            "   macro avg       0.97      0.97      0.97     76531\n",
            "weighted avg       0.98      0.98      0.98     76531\n",
            " \n",
            "\n",
            "[[62830   600]\n",
            " [  705 12396]]\n",
            "CPU times: user 52min 41s, sys: 160 ms, total: 52min 42s\n",
            "Wall time: 52min 42s\n"
          ]
        }
      ]
    },
    {
      "cell_type": "markdown",
      "metadata": {
        "id": "zeIvxu_O1Gwv"
      },
      "source": [
        "# Neural Network (MLP Classifier)"
      ]
    },
    {
      "cell_type": "code",
      "metadata": {
        "id": "AZnnQQcEtEVy",
        "colab": {
          "base_uri": "https://localhost:8080/"
        },
        "outputId": "4f98bd17-0fda-4f34-f94b-e521d7f8a134"
      },
      "source": [
        "%%time\n",
        "# GridSearchCV for MLP\n",
        "\n",
        "hyper_params_cv_mlp = {'hidden_layer_sizes' : [(512,128,32,8), (256,84,28,9), (192,48,12)],\n",
        "                       'alpha': [0.0001, 0.001, 0.01, 0.1],\n",
        "                       'activation': ['tanh', 'relu']}\n",
        "\n",
        "\n",
        "model = GridSearchCV(estimator=MLPClassifier(batch_size=512, max_iter=10), \n",
        "                     param_grid=hyper_params_cv_mlp,\n",
        "                     verbose=1,\n",
        "                     cv=3, \n",
        "                     scoring = \"f1\",\n",
        "                     n_jobs = -1,\n",
        "                     return_train_score=True)\n",
        "\n",
        "model.fit(X_train, y_train)\n",
        "\n",
        "print(model.best_params_)"
      ],
      "execution_count": null,
      "outputs": [
        {
          "output_type": "stream",
          "name": "stdout",
          "text": [
            "Fitting 3 folds for each of 24 candidates, totalling 72 fits\n"
          ]
        },
        {
          "output_type": "stream",
          "name": "stderr",
          "text": [
            "/home/ubuntu/anaconda3/lib/python3.7/site-packages/sklearn/neural_network/_multilayer_perceptron.py:696: ConvergenceWarning: Stochastic Optimizer: Maximum iterations (10) reached and the optimization hasn't converged yet.\n",
            "  ConvergenceWarning,\n",
            "/home/ubuntu/anaconda3/lib/python3.7/site-packages/sklearn/neural_network/_multilayer_perceptron.py:696: ConvergenceWarning: Stochastic Optimizer: Maximum iterations (10) reached and the optimization hasn't converged yet.\n",
            "  ConvergenceWarning,\n",
            "/home/ubuntu/anaconda3/lib/python3.7/site-packages/sklearn/neural_network/_multilayer_perceptron.py:696: ConvergenceWarning: Stochastic Optimizer: Maximum iterations (10) reached and the optimization hasn't converged yet.\n",
            "  ConvergenceWarning,\n",
            "/home/ubuntu/anaconda3/lib/python3.7/site-packages/sklearn/neural_network/_multilayer_perceptron.py:696: ConvergenceWarning: Stochastic Optimizer: Maximum iterations (10) reached and the optimization hasn't converged yet.\n",
            "  ConvergenceWarning,\n",
            "/home/ubuntu/anaconda3/lib/python3.7/site-packages/sklearn/neural_network/_multilayer_perceptron.py:696: ConvergenceWarning: Stochastic Optimizer: Maximum iterations (10) reached and the optimization hasn't converged yet.\n",
            "  ConvergenceWarning,\n",
            "/home/ubuntu/anaconda3/lib/python3.7/site-packages/sklearn/neural_network/_multilayer_perceptron.py:696: ConvergenceWarning: Stochastic Optimizer: Maximum iterations (10) reached and the optimization hasn't converged yet.\n",
            "  ConvergenceWarning,\n",
            "/home/ubuntu/anaconda3/lib/python3.7/site-packages/sklearn/neural_network/_multilayer_perceptron.py:696: ConvergenceWarning: Stochastic Optimizer: Maximum iterations (10) reached and the optimization hasn't converged yet.\n",
            "  ConvergenceWarning,\n",
            "/home/ubuntu/anaconda3/lib/python3.7/site-packages/sklearn/neural_network/_multilayer_perceptron.py:696: ConvergenceWarning: Stochastic Optimizer: Maximum iterations (10) reached and the optimization hasn't converged yet.\n",
            "  ConvergenceWarning,\n",
            "/home/ubuntu/anaconda3/lib/python3.7/site-packages/sklearn/neural_network/_multilayer_perceptron.py:696: ConvergenceWarning: Stochastic Optimizer: Maximum iterations (10) reached and the optimization hasn't converged yet.\n",
            "  ConvergenceWarning,\n",
            "/home/ubuntu/anaconda3/lib/python3.7/site-packages/sklearn/neural_network/_multilayer_perceptron.py:696: ConvergenceWarning: Stochastic Optimizer: Maximum iterations (10) reached and the optimization hasn't converged yet.\n",
            "  ConvergenceWarning,\n",
            "/home/ubuntu/anaconda3/lib/python3.7/site-packages/sklearn/neural_network/_multilayer_perceptron.py:696: ConvergenceWarning: Stochastic Optimizer: Maximum iterations (10) reached and the optimization hasn't converged yet.\n",
            "  ConvergenceWarning,\n",
            "/home/ubuntu/anaconda3/lib/python3.7/site-packages/sklearn/neural_network/_multilayer_perceptron.py:696: ConvergenceWarning: Stochastic Optimizer: Maximum iterations (10) reached and the optimization hasn't converged yet.\n",
            "  ConvergenceWarning,\n",
            "/home/ubuntu/anaconda3/lib/python3.7/site-packages/sklearn/neural_network/_multilayer_perceptron.py:696: ConvergenceWarning: Stochastic Optimizer: Maximum iterations (10) reached and the optimization hasn't converged yet.\n",
            "  ConvergenceWarning,\n",
            "/home/ubuntu/anaconda3/lib/python3.7/site-packages/sklearn/neural_network/_multilayer_perceptron.py:696: ConvergenceWarning: Stochastic Optimizer: Maximum iterations (10) reached and the optimization hasn't converged yet.\n",
            "  ConvergenceWarning,\n",
            "/home/ubuntu/anaconda3/lib/python3.7/site-packages/sklearn/neural_network/_multilayer_perceptron.py:696: ConvergenceWarning: Stochastic Optimizer: Maximum iterations (10) reached and the optimization hasn't converged yet.\n",
            "  ConvergenceWarning,\n",
            "/home/ubuntu/anaconda3/lib/python3.7/site-packages/sklearn/neural_network/_multilayer_perceptron.py:696: ConvergenceWarning: Stochastic Optimizer: Maximum iterations (10) reached and the optimization hasn't converged yet.\n",
            "  ConvergenceWarning,\n",
            "/home/ubuntu/anaconda3/lib/python3.7/site-packages/sklearn/neural_network/_multilayer_perceptron.py:696: ConvergenceWarning: Stochastic Optimizer: Maximum iterations (10) reached and the optimization hasn't converged yet.\n",
            "  ConvergenceWarning,\n",
            "/home/ubuntu/anaconda3/lib/python3.7/site-packages/sklearn/neural_network/_multilayer_perceptron.py:696: ConvergenceWarning: Stochastic Optimizer: Maximum iterations (10) reached and the optimization hasn't converged yet.\n",
            "  ConvergenceWarning,\n",
            "/home/ubuntu/anaconda3/lib/python3.7/site-packages/sklearn/neural_network/_multilayer_perceptron.py:696: ConvergenceWarning: Stochastic Optimizer: Maximum iterations (10) reached and the optimization hasn't converged yet.\n",
            "  ConvergenceWarning,\n",
            "/home/ubuntu/anaconda3/lib/python3.7/site-packages/sklearn/neural_network/_multilayer_perceptron.py:696: ConvergenceWarning: Stochastic Optimizer: Maximum iterations (10) reached and the optimization hasn't converged yet.\n",
            "  ConvergenceWarning,\n",
            "/home/ubuntu/anaconda3/lib/python3.7/site-packages/sklearn/neural_network/_multilayer_perceptron.py:696: ConvergenceWarning: Stochastic Optimizer: Maximum iterations (10) reached and the optimization hasn't converged yet.\n",
            "  ConvergenceWarning,\n",
            "/home/ubuntu/anaconda3/lib/python3.7/site-packages/sklearn/neural_network/_multilayer_perceptron.py:696: ConvergenceWarning: Stochastic Optimizer: Maximum iterations (10) reached and the optimization hasn't converged yet.\n",
            "  ConvergenceWarning,\n",
            "/home/ubuntu/anaconda3/lib/python3.7/site-packages/sklearn/neural_network/_multilayer_perceptron.py:696: ConvergenceWarning: Stochastic Optimizer: Maximum iterations (10) reached and the optimization hasn't converged yet.\n",
            "  ConvergenceWarning,\n",
            "/home/ubuntu/anaconda3/lib/python3.7/site-packages/sklearn/neural_network/_multilayer_perceptron.py:696: ConvergenceWarning: Stochastic Optimizer: Maximum iterations (10) reached and the optimization hasn't converged yet.\n",
            "  ConvergenceWarning,\n",
            "/home/ubuntu/anaconda3/lib/python3.7/site-packages/sklearn/neural_network/_multilayer_perceptron.py:696: ConvergenceWarning: Stochastic Optimizer: Maximum iterations (10) reached and the optimization hasn't converged yet.\n",
            "  ConvergenceWarning,\n",
            "/home/ubuntu/anaconda3/lib/python3.7/site-packages/sklearn/neural_network/_multilayer_perceptron.py:696: ConvergenceWarning: Stochastic Optimizer: Maximum iterations (10) reached and the optimization hasn't converged yet.\n",
            "  ConvergenceWarning,\n",
            "/home/ubuntu/anaconda3/lib/python3.7/site-packages/sklearn/neural_network/_multilayer_perceptron.py:696: ConvergenceWarning: Stochastic Optimizer: Maximum iterations (10) reached and the optimization hasn't converged yet.\n",
            "  ConvergenceWarning,\n",
            "/home/ubuntu/anaconda3/lib/python3.7/site-packages/sklearn/neural_network/_multilayer_perceptron.py:696: ConvergenceWarning: Stochastic Optimizer: Maximum iterations (10) reached and the optimization hasn't converged yet.\n",
            "  ConvergenceWarning,\n",
            "/home/ubuntu/anaconda3/lib/python3.7/site-packages/sklearn/neural_network/_multilayer_perceptron.py:696: ConvergenceWarning: Stochastic Optimizer: Maximum iterations (10) reached and the optimization hasn't converged yet.\n",
            "  ConvergenceWarning,\n",
            "/home/ubuntu/anaconda3/lib/python3.7/site-packages/sklearn/neural_network/_multilayer_perceptron.py:696: ConvergenceWarning: Stochastic Optimizer: Maximum iterations (10) reached and the optimization hasn't converged yet.\n",
            "  ConvergenceWarning,\n",
            "/home/ubuntu/anaconda3/lib/python3.7/site-packages/sklearn/neural_network/_multilayer_perceptron.py:696: ConvergenceWarning: Stochastic Optimizer: Maximum iterations (10) reached and the optimization hasn't converged yet.\n",
            "  ConvergenceWarning,\n",
            "/home/ubuntu/anaconda3/lib/python3.7/site-packages/sklearn/neural_network/_multilayer_perceptron.py:696: ConvergenceWarning: Stochastic Optimizer: Maximum iterations (10) reached and the optimization hasn't converged yet.\n",
            "  ConvergenceWarning,\n",
            "/home/ubuntu/anaconda3/lib/python3.7/site-packages/sklearn/neural_network/_multilayer_perceptron.py:696: ConvergenceWarning: Stochastic Optimizer: Maximum iterations (10) reached and the optimization hasn't converged yet.\n",
            "  ConvergenceWarning,\n",
            "/home/ubuntu/anaconda3/lib/python3.7/site-packages/sklearn/neural_network/_multilayer_perceptron.py:696: ConvergenceWarning: Stochastic Optimizer: Maximum iterations (10) reached and the optimization hasn't converged yet.\n",
            "  ConvergenceWarning,\n",
            "/home/ubuntu/anaconda3/lib/python3.7/site-packages/sklearn/neural_network/_multilayer_perceptron.py:696: ConvergenceWarning: Stochastic Optimizer: Maximum iterations (10) reached and the optimization hasn't converged yet.\n",
            "  ConvergenceWarning,\n",
            "/home/ubuntu/anaconda3/lib/python3.7/site-packages/sklearn/neural_network/_multilayer_perceptron.py:696: ConvergenceWarning: Stochastic Optimizer: Maximum iterations (10) reached and the optimization hasn't converged yet.\n",
            "  ConvergenceWarning,\n",
            "/home/ubuntu/anaconda3/lib/python3.7/site-packages/sklearn/neural_network/_multilayer_perceptron.py:696: ConvergenceWarning: Stochastic Optimizer: Maximum iterations (10) reached and the optimization hasn't converged yet.\n",
            "  ConvergenceWarning,\n",
            "/home/ubuntu/anaconda3/lib/python3.7/site-packages/sklearn/neural_network/_multilayer_perceptron.py:696: ConvergenceWarning: Stochastic Optimizer: Maximum iterations (10) reached and the optimization hasn't converged yet.\n",
            "  ConvergenceWarning,\n",
            "/home/ubuntu/anaconda3/lib/python3.7/site-packages/sklearn/neural_network/_multilayer_perceptron.py:696: ConvergenceWarning: Stochastic Optimizer: Maximum iterations (10) reached and the optimization hasn't converged yet.\n",
            "  ConvergenceWarning,\n",
            "/home/ubuntu/anaconda3/lib/python3.7/site-packages/sklearn/neural_network/_multilayer_perceptron.py:696: ConvergenceWarning: Stochastic Optimizer: Maximum iterations (10) reached and the optimization hasn't converged yet.\n",
            "  ConvergenceWarning,\n",
            "/home/ubuntu/anaconda3/lib/python3.7/site-packages/sklearn/neural_network/_multilayer_perceptron.py:696: ConvergenceWarning: Stochastic Optimizer: Maximum iterations (10) reached and the optimization hasn't converged yet.\n",
            "  ConvergenceWarning,\n",
            "/home/ubuntu/anaconda3/lib/python3.7/site-packages/sklearn/neural_network/_multilayer_perceptron.py:696: ConvergenceWarning: Stochastic Optimizer: Maximum iterations (10) reached and the optimization hasn't converged yet.\n",
            "  ConvergenceWarning,\n",
            "/home/ubuntu/anaconda3/lib/python3.7/site-packages/sklearn/neural_network/_multilayer_perceptron.py:696: ConvergenceWarning: Stochastic Optimizer: Maximum iterations (10) reached and the optimization hasn't converged yet.\n",
            "  ConvergenceWarning,\n",
            "/home/ubuntu/anaconda3/lib/python3.7/site-packages/sklearn/neural_network/_multilayer_perceptron.py:696: ConvergenceWarning: Stochastic Optimizer: Maximum iterations (10) reached and the optimization hasn't converged yet.\n",
            "  ConvergenceWarning,\n",
            "/home/ubuntu/anaconda3/lib/python3.7/site-packages/sklearn/neural_network/_multilayer_perceptron.py:696: ConvergenceWarning: Stochastic Optimizer: Maximum iterations (10) reached and the optimization hasn't converged yet.\n",
            "  ConvergenceWarning,\n",
            "/home/ubuntu/anaconda3/lib/python3.7/site-packages/sklearn/neural_network/_multilayer_perceptron.py:696: ConvergenceWarning: Stochastic Optimizer: Maximum iterations (10) reached and the optimization hasn't converged yet.\n",
            "  ConvergenceWarning,\n",
            "/home/ubuntu/anaconda3/lib/python3.7/site-packages/sklearn/neural_network/_multilayer_perceptron.py:696: ConvergenceWarning: Stochastic Optimizer: Maximum iterations (10) reached and the optimization hasn't converged yet.\n",
            "  ConvergenceWarning,\n",
            "/home/ubuntu/anaconda3/lib/python3.7/site-packages/sklearn/neural_network/_multilayer_perceptron.py:696: ConvergenceWarning: Stochastic Optimizer: Maximum iterations (10) reached and the optimization hasn't converged yet.\n",
            "  ConvergenceWarning,\n",
            "/home/ubuntu/anaconda3/lib/python3.7/site-packages/sklearn/neural_network/_multilayer_perceptron.py:696: ConvergenceWarning: Stochastic Optimizer: Maximum iterations (10) reached and the optimization hasn't converged yet.\n",
            "  ConvergenceWarning,\n",
            "/home/ubuntu/anaconda3/lib/python3.7/site-packages/sklearn/neural_network/_multilayer_perceptron.py:696: ConvergenceWarning: Stochastic Optimizer: Maximum iterations (10) reached and the optimization hasn't converged yet.\n",
            "  ConvergenceWarning,\n",
            "/home/ubuntu/anaconda3/lib/python3.7/site-packages/sklearn/neural_network/_multilayer_perceptron.py:696: ConvergenceWarning: Stochastic Optimizer: Maximum iterations (10) reached and the optimization hasn't converged yet.\n",
            "  ConvergenceWarning,\n",
            "/home/ubuntu/anaconda3/lib/python3.7/site-packages/sklearn/neural_network/_multilayer_perceptron.py:696: ConvergenceWarning: Stochastic Optimizer: Maximum iterations (10) reached and the optimization hasn't converged yet.\n",
            "  ConvergenceWarning,\n",
            "/home/ubuntu/anaconda3/lib/python3.7/site-packages/sklearn/neural_network/_multilayer_perceptron.py:696: ConvergenceWarning: Stochastic Optimizer: Maximum iterations (10) reached and the optimization hasn't converged yet.\n",
            "  ConvergenceWarning,\n",
            "/home/ubuntu/anaconda3/lib/python3.7/site-packages/sklearn/neural_network/_multilayer_perceptron.py:696: ConvergenceWarning: Stochastic Optimizer: Maximum iterations (10) reached and the optimization hasn't converged yet.\n",
            "  ConvergenceWarning,\n",
            "/home/ubuntu/anaconda3/lib/python3.7/site-packages/sklearn/neural_network/_multilayer_perceptron.py:696: ConvergenceWarning: Stochastic Optimizer: Maximum iterations (10) reached and the optimization hasn't converged yet.\n",
            "  ConvergenceWarning,\n",
            "/home/ubuntu/anaconda3/lib/python3.7/site-packages/sklearn/neural_network/_multilayer_perceptron.py:696: ConvergenceWarning: Stochastic Optimizer: Maximum iterations (10) reached and the optimization hasn't converged yet.\n",
            "  ConvergenceWarning,\n",
            "/home/ubuntu/anaconda3/lib/python3.7/site-packages/sklearn/neural_network/_multilayer_perceptron.py:696: ConvergenceWarning: Stochastic Optimizer: Maximum iterations (10) reached and the optimization hasn't converged yet.\n",
            "  ConvergenceWarning,\n",
            "/home/ubuntu/anaconda3/lib/python3.7/site-packages/sklearn/neural_network/_multilayer_perceptron.py:696: ConvergenceWarning: Stochastic Optimizer: Maximum iterations (10) reached and the optimization hasn't converged yet.\n",
            "  ConvergenceWarning,\n",
            "/home/ubuntu/anaconda3/lib/python3.7/site-packages/sklearn/neural_network/_multilayer_perceptron.py:696: ConvergenceWarning: Stochastic Optimizer: Maximum iterations (10) reached and the optimization hasn't converged yet.\n",
            "  ConvergenceWarning,\n",
            "/home/ubuntu/anaconda3/lib/python3.7/site-packages/sklearn/neural_network/_multilayer_perceptron.py:696: ConvergenceWarning: Stochastic Optimizer: Maximum iterations (10) reached and the optimization hasn't converged yet.\n",
            "  ConvergenceWarning,\n",
            "/home/ubuntu/anaconda3/lib/python3.7/site-packages/sklearn/neural_network/_multilayer_perceptron.py:696: ConvergenceWarning: Stochastic Optimizer: Maximum iterations (10) reached and the optimization hasn't converged yet.\n",
            "  ConvergenceWarning,\n",
            "/home/ubuntu/anaconda3/lib/python3.7/site-packages/sklearn/neural_network/_multilayer_perceptron.py:696: ConvergenceWarning: Stochastic Optimizer: Maximum iterations (10) reached and the optimization hasn't converged yet.\n",
            "  ConvergenceWarning,\n",
            "/home/ubuntu/anaconda3/lib/python3.7/site-packages/sklearn/neural_network/_multilayer_perceptron.py:696: ConvergenceWarning: Stochastic Optimizer: Maximum iterations (10) reached and the optimization hasn't converged yet.\n",
            "  ConvergenceWarning,\n",
            "/home/ubuntu/anaconda3/lib/python3.7/site-packages/sklearn/neural_network/_multilayer_perceptron.py:696: ConvergenceWarning: Stochastic Optimizer: Maximum iterations (10) reached and the optimization hasn't converged yet.\n",
            "  ConvergenceWarning,\n",
            "/home/ubuntu/anaconda3/lib/python3.7/site-packages/sklearn/neural_network/_multilayer_perceptron.py:696: ConvergenceWarning: Stochastic Optimizer: Maximum iterations (10) reached and the optimization hasn't converged yet.\n",
            "  ConvergenceWarning,\n"
          ]
        },
        {
          "output_type": "stream",
          "name": "stdout",
          "text": [
            "{'activation': 'relu', 'alpha': 0.001, 'hidden_layer_sizes': (512, 128, 32, 8)}\n",
            "CPU times: user 11min 29s, sys: 19.8 s, total: 11min 49s\n",
            "Wall time: 36min 54s\n"
          ]
        }
      ]
    },
    {
      "cell_type": "code",
      "metadata": {
        "id": "bCM9Vqkg1He6",
        "colab": {
          "base_uri": "https://localhost:8080/"
        },
        "outputId": "1cf799b2-933c-473f-f16e-65fde6de74dc"
      },
      "source": [
        "%%time\n",
        "\n",
        "from sklearn.exceptions import ConvergenceWarning #\n",
        "warnings.simplefilter(\"ignore\", category=ConvergenceWarning) #\n",
        "\n",
        "model = MLPClassifier(hidden_layer_sizes=(512, 128, 32, 8), max_iter=10, alpha=0.001, verbose=True, batch_size=512, random_state=9713)\n",
        "model.fit(X_train, y_train)\n",
        "\n",
        "y_pred_train = model.predict_proba(X_train)[:,1].round(3)\n",
        "print(classification_report(y_train, (y_pred_train>=0.5)*1), '\\n')\n",
        "print(confusion_matrix(y_train, (y_pred_train>=0.5)*1))"
      ],
      "execution_count": 10,
      "outputs": [
        {
          "output_type": "stream",
          "name": "stdout",
          "text": [
            "Iteration 1, loss = 0.18141726\n",
            "Iteration 2, loss = 0.12757201\n",
            "Iteration 3, loss = 0.10237073\n",
            "Iteration 4, loss = 0.08189240\n",
            "Iteration 5, loss = 0.06599390\n",
            "Iteration 6, loss = 0.05452049\n",
            "Iteration 7, loss = 0.04615975\n",
            "Iteration 8, loss = 0.03898890\n",
            "Iteration 9, loss = 0.03424996\n",
            "Iteration 10, loss = 0.03128178\n",
            "              precision    recall  f1-score   support\n",
            "\n",
            "           0       1.00      1.00      1.00    254355\n",
            "           1       0.98      0.98      0.98     51768\n",
            "\n",
            "    accuracy                           0.99    306123\n",
            "   macro avg       0.99      0.99      0.99    306123\n",
            "weighted avg       0.99      0.99      0.99    306123\n",
            " \n",
            "\n",
            "[[253124   1231]\n",
            " [   838  50930]]\n",
            "CPU times: user 11min 47s, sys: 18.2 s, total: 12min 5s\n",
            "Wall time: 45.9 s\n"
          ]
        }
      ]
    },
    {
      "cell_type": "code",
      "metadata": {
        "id": "ye3GTjXe3FXa",
        "colab": {
          "base_uri": "https://localhost:8080/"
        },
        "outputId": "68de257e-bdc8-4e6c-87e3-774b81252809"
      },
      "source": [
        "y_pred_test = model.predict_proba(X_test)[:,1].round(3)\n",
        "print(classification_report(y_test, (y_pred_test>=0.5)*1), '\\n')\n",
        "print(confusion_matrix(y_test, (y_pred_test>=0.5)*1))"
      ],
      "execution_count": 7,
      "outputs": [
        {
          "output_type": "stream",
          "name": "stdout",
          "text": [
            "              precision    recall  f1-score   support\n",
            "\n",
            "           0       0.98      0.98      0.98     63430\n",
            "           1       0.92      0.93      0.92     13101\n",
            "\n",
            "    accuracy                           0.97     76531\n",
            "   macro avg       0.95      0.95      0.95     76531\n",
            "weighted avg       0.97      0.97      0.97     76531\n",
            " \n",
            "\n",
            "[[62357  1073]\n",
            " [  963 12138]]\n"
          ]
        }
      ]
    },
    {
      "cell_type": "code",
      "metadata": {
        "id": "YLgcAzoNa_Qc"
      },
      "source": [
        ""
      ],
      "execution_count": null,
      "outputs": []
    },
    {
      "cell_type": "markdown",
      "metadata": {
        "id": "lAOJQaJmr8_5"
      },
      "source": [
        "# Testing on multilingual data"
      ]
    },
    {
      "cell_type": "code",
      "metadata": {
        "colab": {
          "base_uri": "https://localhost:8080/"
        },
        "id": "ICg-5X6ir9M_",
        "outputId": "a6f6ee95-54f2-4e54-f156-87df92cfdf93"
      },
      "source": [
        "df1 = pd.read_csv('hs_multilingual_labeled.csv')\n",
        "df1['lang'].value_counts().sort_index()"
      ],
      "execution_count": null,
      "outputs": [
        {
          "output_type": "execute_result",
          "data": {
            "text/plain": [
              "ar    105\n",
              "da     99\n",
              "en    102\n",
              "es     96\n",
              "gr    113\n",
              "hi    102\n",
              "pt    100\n",
              "tr    102\n",
              "zh    100\n",
              "Name: lang, dtype: int64"
            ]
          },
          "metadata": {},
          "execution_count": 36
        }
      ]
    },
    {
      "cell_type": "code",
      "metadata": {
        "id": "sl3rDm6PwCph",
        "colab": {
          "base_uri": "https://localhost:8080/"
        },
        "outputId": "34f90e25-a1db-44c4-a423-af0607645a88"
      },
      "source": [
        "%%time\n",
        "df_ar = df1[df1['lang']=='ar'][['text','label']] # arabic dataset\n",
        "df_da = df1[df1['lang']=='da'][['text','label']] # danish dataset\n",
        "df_en = df1[df1['lang']=='en'][['text','label']] # english dataset\n",
        "df_gr = df1[df1['lang']=='gr'][['text','label']] # greek dataset\n",
        "df_hi = df1[df1['lang']=='hi'][['text','label']] # hindi dataset\n",
        "df_pt = df1[df1['lang']=='pt'][['text','label']] # portuguese dataset\n",
        "df_tr = df1[df1['lang']=='tr'][['text','label']] # turkish dataset\n",
        "df_zh = df1[df1['lang']=='zh'][['text','label']] # chinese dataset\n",
        "\n",
        "\n",
        "X_ar, y_ar= CleanupAndVectorize(df_ar, vect_model, anglo_chars=False)\n",
        "X_da, y_da= CleanupAndVectorize(df_da, vect_model, anglo_chars=False)\n",
        "X_en, y_en= CleanupAndVectorize(df_en, vect_model, anglo_chars=True)\n",
        "X_gr, y_gr= CleanupAndVectorize(df_gr, vect_model, anglo_chars=False)\n",
        "X_hi, y_hi= CleanupAndVectorize(df_hi, vect_model, anglo_chars=False)\n",
        "X_pt, y_pt= CleanupAndVectorize(df_pt, vect_model, anglo_chars=False)\n",
        "X_tr, y_tr= CleanupAndVectorize(df_tr, vect_model, anglo_chars=False)\n",
        "X_zh, y_zh= CleanupAndVectorize(df_zh, vect_model, anglo_chars=False)"
      ],
      "execution_count": null,
      "outputs": [
        {
          "output_type": "stream",
          "name": "stdout",
          "text": [
            "CPU times: user 35min 4s, sys: 2min 59s, total: 38min 4s\n",
            "Wall time: 2min 54s\n"
          ]
        }
      ]
    },
    {
      "cell_type": "markdown",
      "metadata": {
        "id": "2I_L3Ned2KiM"
      },
      "source": [
        "# Arabic dataset"
      ]
    },
    {
      "cell_type": "code",
      "metadata": {
        "id": "mKsGYc7WpkAG",
        "colab": {
          "base_uri": "https://localhost:8080/",
          "height": 204
        },
        "outputId": "68ff2f9c-f6b5-4a6a-b4e4-7e7632abea81"
      },
      "source": [
        "df_ar.sample(5)"
      ],
      "execution_count": null,
      "outputs": [
        {
          "output_type": "execute_result",
          "data": {
            "text/plain": [
              "                                                                          text  \\\n",
              "45                                           قرّبنا يا محجوبقرّبنا يا عظمة url   \n",
              "65  الكردي ما هذه العنصرية البغيضة يا مزورين يا كارهي دين الله يا عبيد اتاتورك   \n",
              "20             يا هناي و ياعزوتي يا مصدر فرحتي يا اغلى رجل حطني القدر بنته url   \n",
              "98                      ترى ماهو بشطارتك فزت يا فار يا مرتشي يا حرامي البطولات   \n",
              "96                     و ايه فرقة السحالي دي هو يا محشي يا سحالي يارب مفيش وسط   \n",
              "\n",
              "    label  \n",
              "45      0  \n",
              "65      1  \n",
              "20      0  \n",
              "98      1  \n",
              "96      1  "
            ],
            "text/html": [
              "<div>\n",
              "<style scoped>\n",
              "    .dataframe tbody tr th:only-of-type {\n",
              "        vertical-align: middle;\n",
              "    }\n",
              "\n",
              "    .dataframe tbody tr th {\n",
              "        vertical-align: top;\n",
              "    }\n",
              "\n",
              "    .dataframe thead th {\n",
              "        text-align: right;\n",
              "    }\n",
              "</style>\n",
              "<table border=\"1\" class=\"dataframe\">\n",
              "  <thead>\n",
              "    <tr style=\"text-align: right;\">\n",
              "      <th></th>\n",
              "      <th>text</th>\n",
              "      <th>label</th>\n",
              "    </tr>\n",
              "  </thead>\n",
              "  <tbody>\n",
              "    <tr>\n",
              "      <th>45</th>\n",
              "      <td>قرّبنا يا محجوبقرّبنا يا عظمة url</td>\n",
              "      <td>0</td>\n",
              "    </tr>\n",
              "    <tr>\n",
              "      <th>65</th>\n",
              "      <td>الكردي ما هذه العنصرية البغيضة يا مزورين يا كارهي دين الله يا عبيد اتاتورك</td>\n",
              "      <td>1</td>\n",
              "    </tr>\n",
              "    <tr>\n",
              "      <th>20</th>\n",
              "      <td>يا هناي و ياعزوتي يا مصدر فرحتي يا اغلى رجل حطني القدر بنته url</td>\n",
              "      <td>0</td>\n",
              "    </tr>\n",
              "    <tr>\n",
              "      <th>98</th>\n",
              "      <td>ترى ماهو بشطارتك فزت يا فار يا مرتشي يا حرامي البطولات</td>\n",
              "      <td>1</td>\n",
              "    </tr>\n",
              "    <tr>\n",
              "      <th>96</th>\n",
              "      <td>و ايه فرقة السحالي دي هو يا محشي يا سحالي يارب مفيش وسط</td>\n",
              "      <td>1</td>\n",
              "    </tr>\n",
              "  </tbody>\n",
              "</table>\n",
              "</div>"
            ]
          },
          "metadata": {},
          "execution_count": 19
        }
      ]
    },
    {
      "cell_type": "code",
      "metadata": {
        "id": "3gtQ2_Nnz6qJ",
        "colab": {
          "base_uri": "https://localhost:8080/"
        },
        "outputId": "09dc13d7-092a-44e1-ec71-5d5af0a8ca47"
      },
      "source": [
        "y_pred_ar = model.predict_proba(X_ar)[:,1].round(3)\n",
        "print(classification_report(y_ar, (y_pred_ar>=0.5)*1), '\\n')\n",
        "print(confusion_matrix(y_ar, (y_pred_ar>=0.5)*1))"
      ],
      "execution_count": null,
      "outputs": [
        {
          "output_type": "stream",
          "name": "stdout",
          "text": [
            "              precision    recall  f1-score   support\n",
            "\n",
            "           0       0.96      0.96      0.96        53\n",
            "           1       0.96      0.96      0.96        52\n",
            "\n",
            "    accuracy                           0.96       105\n",
            "   macro avg       0.96      0.96      0.96       105\n",
            "weighted avg       0.96      0.96      0.96       105\n",
            " \n",
            "\n",
            "[[51  2]\n",
            " [ 2 50]]\n"
          ]
        }
      ]
    },
    {
      "cell_type": "markdown",
      "metadata": {
        "id": "RWLIs-Hp2PS5"
      },
      "source": [
        "# Danish dataset"
      ]
    },
    {
      "cell_type": "code",
      "metadata": {
        "id": "_VyEAf7Kp37e",
        "colab": {
          "base_uri": "https://localhost:8080/",
          "height": 204
        },
        "outputId": "bcd4d1ea-e812-4491-a7c9-5a8f8ecbcabd"
      },
      "source": [
        "df_da.sample(5)"
      ],
      "execution_count": null,
      "outputs": [
        {
          "output_type": "execute_result",
          "data": {
            "text/plain": [
              "                                                                                                                                                     text  \\\n",
              "135                                                                                             uden tvivl den mest kendte skuespiller i verdenshistorien   \n",
              "199                                                                              hvilket barbarisk middelalderligt og primitivt land mon han kommer nå jo   \n",
              "170  ah og vi har allerede fået bygget en mur mod indvandring fra vest kan jeg se kun et spørgsmål om tid før den bliver forlænget for at stoppe svensken   \n",
              "189                                                                                                        ind og ruske tremmer med hendeden syge kælling   \n",
              "137                                                                                              tænk lige på hvad du kan gøre næste gang skal koge pasta   \n",
              "\n",
              "     label  \n",
              "135      0  \n",
              "199      1  \n",
              "170      1  \n",
              "189      1  \n",
              "137      0  "
            ],
            "text/html": [
              "<div>\n",
              "<style scoped>\n",
              "    .dataframe tbody tr th:only-of-type {\n",
              "        vertical-align: middle;\n",
              "    }\n",
              "\n",
              "    .dataframe tbody tr th {\n",
              "        vertical-align: top;\n",
              "    }\n",
              "\n",
              "    .dataframe thead th {\n",
              "        text-align: right;\n",
              "    }\n",
              "</style>\n",
              "<table border=\"1\" class=\"dataframe\">\n",
              "  <thead>\n",
              "    <tr style=\"text-align: right;\">\n",
              "      <th></th>\n",
              "      <th>text</th>\n",
              "      <th>label</th>\n",
              "    </tr>\n",
              "  </thead>\n",
              "  <tbody>\n",
              "    <tr>\n",
              "      <th>135</th>\n",
              "      <td>uden tvivl den mest kendte skuespiller i verdenshistorien</td>\n",
              "      <td>0</td>\n",
              "    </tr>\n",
              "    <tr>\n",
              "      <th>199</th>\n",
              "      <td>hvilket barbarisk middelalderligt og primitivt land mon han kommer nå jo</td>\n",
              "      <td>1</td>\n",
              "    </tr>\n",
              "    <tr>\n",
              "      <th>170</th>\n",
              "      <td>ah og vi har allerede fået bygget en mur mod indvandring fra vest kan jeg se kun et spørgsmål om tid før den bliver forlænget for at stoppe svensken</td>\n",
              "      <td>1</td>\n",
              "    </tr>\n",
              "    <tr>\n",
              "      <th>189</th>\n",
              "      <td>ind og ruske tremmer med hendeden syge kælling</td>\n",
              "      <td>1</td>\n",
              "    </tr>\n",
              "    <tr>\n",
              "      <th>137</th>\n",
              "      <td>tænk lige på hvad du kan gøre næste gang skal koge pasta</td>\n",
              "      <td>0</td>\n",
              "    </tr>\n",
              "  </tbody>\n",
              "</table>\n",
              "</div>"
            ]
          },
          "metadata": {},
          "execution_count": 21
        }
      ]
    },
    {
      "cell_type": "code",
      "metadata": {
        "id": "mjNeoc_u0Pix",
        "colab": {
          "base_uri": "https://localhost:8080/"
        },
        "outputId": "96d47bbb-44de-40e5-9b02-8cb852df8012"
      },
      "source": [
        "y_pred_da = model.predict_proba(X_da)[:,1].round(3)\n",
        "print(classification_report(y_da, (y_pred_da>=0.5)*1), '\\n')\n",
        "print(confusion_matrix(y_da, (y_pred_da>=0.5)*1))"
      ],
      "execution_count": null,
      "outputs": [
        {
          "output_type": "stream",
          "name": "stdout",
          "text": [
            "              precision    recall  f1-score   support\n",
            "\n",
            "           0       0.87      0.98      0.92        49\n",
            "           1       0.98      0.86      0.91        50\n",
            "\n",
            "    accuracy                           0.92        99\n",
            "   macro avg       0.93      0.92      0.92        99\n",
            "weighted avg       0.93      0.92      0.92        99\n",
            " \n",
            "\n",
            "[[48  1]\n",
            " [ 7 43]]\n"
          ]
        }
      ]
    },
    {
      "cell_type": "markdown",
      "metadata": {
        "id": "rMz6ZeXL2Rvc"
      },
      "source": [
        "# English dataset"
      ]
    },
    {
      "cell_type": "code",
      "metadata": {
        "id": "Z0L8azuuqAo1",
        "colab": {
          "base_uri": "https://localhost:8080/",
          "height": 204
        },
        "outputId": "6e1fb39e-5190-40ff-f37b-1468a9c60de0"
      },
      "source": [
        "df_en.sample(5)"
      ],
      "execution_count": null,
      "outputs": [
        {
          "output_type": "execute_result",
          "data": {
            "text/plain": [
              "                                                                                                                  text  \\\n",
              "912                                                       love fat hoes n tight clothes n granny panties seeeexxaaaay.   \n",
              "854  dan rather supplied her with unimpeachable documentation and she is just waiting for snopes to verify it for her.   \n",
              "842                           just because they are in super max does not mean they will never be out among us again .   \n",
              "904                                          this doesnt apply to you but i hate you and your leo cunt twat whore kin.   \n",
              "918                                                                               i'll show you how much of a fag i am   \n",
              "\n",
              "     label  \n",
              "912      1  \n",
              "854      0  \n",
              "842      0  \n",
              "904      1  \n",
              "918      1  "
            ],
            "text/html": [
              "<div>\n",
              "<style scoped>\n",
              "    .dataframe tbody tr th:only-of-type {\n",
              "        vertical-align: middle;\n",
              "    }\n",
              "\n",
              "    .dataframe tbody tr th {\n",
              "        vertical-align: top;\n",
              "    }\n",
              "\n",
              "    .dataframe thead th {\n",
              "        text-align: right;\n",
              "    }\n",
              "</style>\n",
              "<table border=\"1\" class=\"dataframe\">\n",
              "  <thead>\n",
              "    <tr style=\"text-align: right;\">\n",
              "      <th></th>\n",
              "      <th>text</th>\n",
              "      <th>label</th>\n",
              "    </tr>\n",
              "  </thead>\n",
              "  <tbody>\n",
              "    <tr>\n",
              "      <th>912</th>\n",
              "      <td>love fat hoes n tight clothes n granny panties seeeexxaaaay.</td>\n",
              "      <td>1</td>\n",
              "    </tr>\n",
              "    <tr>\n",
              "      <th>854</th>\n",
              "      <td>dan rather supplied her with unimpeachable documentation and she is just waiting for snopes to verify it for her.</td>\n",
              "      <td>0</td>\n",
              "    </tr>\n",
              "    <tr>\n",
              "      <th>842</th>\n",
              "      <td>just because they are in super max does not mean they will never be out among us again .</td>\n",
              "      <td>0</td>\n",
              "    </tr>\n",
              "    <tr>\n",
              "      <th>904</th>\n",
              "      <td>this doesnt apply to you but i hate you and your leo cunt twat whore kin.</td>\n",
              "      <td>1</td>\n",
              "    </tr>\n",
              "    <tr>\n",
              "      <th>918</th>\n",
              "      <td>i'll show you how much of a fag i am</td>\n",
              "      <td>1</td>\n",
              "    </tr>\n",
              "  </tbody>\n",
              "</table>\n",
              "</div>"
            ]
          },
          "metadata": {},
          "execution_count": 24
        }
      ]
    },
    {
      "cell_type": "code",
      "metadata": {
        "id": "0rHzKZYg0s3f",
        "colab": {
          "base_uri": "https://localhost:8080/"
        },
        "outputId": "2afe1ba5-f031-4334-fda1-00e4edac1013"
      },
      "source": [
        "y_pred_en = model.predict_proba(X_en)[:,1].round(3)\n",
        "print(classification_report(y_en, (y_pred_en>=0.5)*1), '\\n')\n",
        "print(confusion_matrix(y_en, (y_pred_en>=0.5)*1))"
      ],
      "execution_count": null,
      "outputs": [
        {
          "output_type": "stream",
          "name": "stdout",
          "text": [
            "              precision    recall  f1-score   support\n",
            "\n",
            "           0       0.98      1.00      0.99        51\n",
            "           1       1.00      0.98      0.99        51\n",
            "\n",
            "    accuracy                           0.99       102\n",
            "   macro avg       0.99      0.99      0.99       102\n",
            "weighted avg       0.99      0.99      0.99       102\n",
            " \n",
            "\n",
            "[[51  0]\n",
            " [ 1 50]]\n"
          ]
        }
      ]
    },
    {
      "cell_type": "markdown",
      "metadata": {
        "id": "dAYzBmv52W60"
      },
      "source": [
        "# Greek dataset"
      ]
    },
    {
      "cell_type": "code",
      "metadata": {
        "id": "DbSCQXERqabU",
        "colab": {
          "base_uri": "https://localhost:8080/",
          "height": 204
        },
        "outputId": "54ca464d-1313-4cc8-c7da-520b3a24306f"
      },
      "source": [
        "df_gr.sample(5)"
      ],
      "execution_count": null,
      "outputs": [
        {
          "output_type": "execute_result",
          "data": {
            "text/plain": [
              "                                                                                                                                                                                                          text  \\\n",
              "411                                                                                                                                                 οχι είσαι αδωνική νδ βαθιά μαύρη δεξιά αλλά είσαι και κότα   \n",
              "328                                                                                                                                              χμμ νικόλα θα είμαστε όλοι εκεί με μπανάνες να είσαι σίγουρος   \n",
              "362              άκου εδώ μαλάκα η αλβανία στοχοποιεί κ κυνηγάει τους έλληνες της βηπείρου αρνείται να πάρει 'πρόσφυγες' υποβλέπει εδάφη γειτόνων της τις μαλακίες σου να τις πείς στα πατριωτάκια σου όχι εδώ   \n",
              "395                                                                                     kalytera οι καρκίνοι γυναίκες είστε τα καλύτερατα πιο γλυκά κι ευαίσθητασπασαρχίδικα κορίτσια γαμώ τη γκρίνια σας μέσα   \n",
              "346  τι λεω ο τρελος πριν από πολλά πολλά χρόνια όταν ήμουν ετών παντρεύτηκα μία γυναίκα χήρα αυτή η χήρα είχε μία μεγάλη κόρη ο πατέρας μου ερωτεύτηκε την κόρη της χήρας και σύντομα παντρεύτηκαν το γεγονός   \n",
              "\n",
              "     label  \n",
              "411      1  \n",
              "328      0  \n",
              "362      1  \n",
              "395      1  \n",
              "346      0  "
            ],
            "text/html": [
              "<div>\n",
              "<style scoped>\n",
              "    .dataframe tbody tr th:only-of-type {\n",
              "        vertical-align: middle;\n",
              "    }\n",
              "\n",
              "    .dataframe tbody tr th {\n",
              "        vertical-align: top;\n",
              "    }\n",
              "\n",
              "    .dataframe thead th {\n",
              "        text-align: right;\n",
              "    }\n",
              "</style>\n",
              "<table border=\"1\" class=\"dataframe\">\n",
              "  <thead>\n",
              "    <tr style=\"text-align: right;\">\n",
              "      <th></th>\n",
              "      <th>text</th>\n",
              "      <th>label</th>\n",
              "    </tr>\n",
              "  </thead>\n",
              "  <tbody>\n",
              "    <tr>\n",
              "      <th>411</th>\n",
              "      <td>οχι είσαι αδωνική νδ βαθιά μαύρη δεξιά αλλά είσαι και κότα</td>\n",
              "      <td>1</td>\n",
              "    </tr>\n",
              "    <tr>\n",
              "      <th>328</th>\n",
              "      <td>χμμ νικόλα θα είμαστε όλοι εκεί με μπανάνες να είσαι σίγουρος</td>\n",
              "      <td>0</td>\n",
              "    </tr>\n",
              "    <tr>\n",
              "      <th>362</th>\n",
              "      <td>άκου εδώ μαλάκα η αλβανία στοχοποιεί κ κυνηγάει τους έλληνες της βηπείρου αρνείται να πάρει 'πρόσφυγες' υποβλέπει εδάφη γειτόνων της τις μαλακίες σου να τις πείς στα πατριωτάκια σου όχι εδώ</td>\n",
              "      <td>1</td>\n",
              "    </tr>\n",
              "    <tr>\n",
              "      <th>395</th>\n",
              "      <td>kalytera οι καρκίνοι γυναίκες είστε τα καλύτερατα πιο γλυκά κι ευαίσθητασπασαρχίδικα κορίτσια γαμώ τη γκρίνια σας μέσα</td>\n",
              "      <td>1</td>\n",
              "    </tr>\n",
              "    <tr>\n",
              "      <th>346</th>\n",
              "      <td>τι λεω ο τρελος πριν από πολλά πολλά χρόνια όταν ήμουν ετών παντρεύτηκα μία γυναίκα χήρα αυτή η χήρα είχε μία μεγάλη κόρη ο πατέρας μου ερωτεύτηκε την κόρη της χήρας και σύντομα παντρεύτηκαν το γεγονός</td>\n",
              "      <td>0</td>\n",
              "    </tr>\n",
              "  </tbody>\n",
              "</table>\n",
              "</div>"
            ]
          },
          "metadata": {},
          "execution_count": 38
        }
      ]
    },
    {
      "cell_type": "code",
      "metadata": {
        "id": "KxJO25bY0zG2",
        "colab": {
          "base_uri": "https://localhost:8080/"
        },
        "outputId": "e22730ca-ae0c-411f-f92c-60c43c8c09d3"
      },
      "source": [
        "y_pred_gr = model.predict_proba(X_gr)[:,1].round(3)\n",
        "print(classification_report(y_gr, (y_pred_gr>=0.5)*1), '\\n')\n",
        "print(confusion_matrix(y_gr, (y_pred_gr>=0.5)*1))"
      ],
      "execution_count": null,
      "outputs": [
        {
          "output_type": "stream",
          "name": "stdout",
          "text": [
            "              precision    recall  f1-score   support\n",
            "\n",
            "           0       0.94      0.88      0.91        52\n",
            "           1       0.91      0.95      0.93        61\n",
            "\n",
            "    accuracy                           0.92       113\n",
            "   macro avg       0.92      0.92      0.92       113\n",
            "weighted avg       0.92      0.92      0.92       113\n",
            " \n",
            "\n",
            "[[46  6]\n",
            " [ 3 58]]\n"
          ]
        }
      ]
    },
    {
      "cell_type": "markdown",
      "metadata": {
        "id": "Vy2R5WCL2akm"
      },
      "source": [
        "# Hindi dataset"
      ]
    },
    {
      "cell_type": "code",
      "metadata": {
        "id": "QbP8fQuOqfd5",
        "colab": {
          "base_uri": "https://localhost:8080/",
          "height": 204
        },
        "outputId": "a1eb8e2a-9ee0-45be-8b63-c40cca27f0f7"
      },
      "source": [
        "df_hi.sample(5)"
      ],
      "execution_count": null,
      "outputs": [
        {
          "output_type": "execute_result",
          "data": {
            "text/plain": [
              "                                                                                                                                                                                                             text  \\\n",
              "492  ये २१वी सदी का ग़दर देख लो जाहिलों की तरह यें गुंडे बेचारे अकेले मार्शल पे हमला करके मर्द बन रहे हैं इनका कच्छा खोलो तो साले सारे के सारे नपुंसक हैं पता चल जाएगा महिलाएँ भी कितनी डरी हुई हैं इन हिजड़ों से   \n",
              "511                                                                                                                         मुझे तो लगता है ये कमीनी हालाला के मज़े लेना चाहती हैं इसलिए धर्म परिवर्तन करवायी हैं   \n",
              "483                                                                                                                                                  बोहोत ही फूहड़ औरत हैं कँगना एक नंबर की छठी अय्यास हैं कमीनी   \n",
              "459                                                                         सोशल मीडिया पर एक्टिव प्रधानमंत्री मोदी 'मन की बात' पर डिस्लाइक देख क्या सोचते होंगे क्या कुछ करेंगे अपनी राय हमें कॉमेंट्स में बताएं   \n",
              "421                                                                                               ‘होस्टेजेस’ के सीजन में खतरनाक कातिल बने डीनो मोरिया समझिए कैसे की अपने इस किरदार की पूरी तैयारी hostagesseason   \n",
              "\n",
              "     label  \n",
              "492      1  \n",
              "511      1  \n",
              "483      1  \n",
              "459      0  \n",
              "421      0  "
            ],
            "text/html": [
              "<div>\n",
              "<style scoped>\n",
              "    .dataframe tbody tr th:only-of-type {\n",
              "        vertical-align: middle;\n",
              "    }\n",
              "\n",
              "    .dataframe tbody tr th {\n",
              "        vertical-align: top;\n",
              "    }\n",
              "\n",
              "    .dataframe thead th {\n",
              "        text-align: right;\n",
              "    }\n",
              "</style>\n",
              "<table border=\"1\" class=\"dataframe\">\n",
              "  <thead>\n",
              "    <tr style=\"text-align: right;\">\n",
              "      <th></th>\n",
              "      <th>text</th>\n",
              "      <th>label</th>\n",
              "    </tr>\n",
              "  </thead>\n",
              "  <tbody>\n",
              "    <tr>\n",
              "      <th>492</th>\n",
              "      <td>ये २१वी सदी का ग़दर देख लो जाहिलों की तरह यें गुंडे बेचारे अकेले मार्शल पे हमला करके मर्द बन रहे हैं इनका कच्छा खोलो तो साले सारे के सारे नपुंसक हैं पता चल जाएगा महिलाएँ भी कितनी डरी हुई हैं इन हिजड़ों से</td>\n",
              "      <td>1</td>\n",
              "    </tr>\n",
              "    <tr>\n",
              "      <th>511</th>\n",
              "      <td>मुझे तो लगता है ये कमीनी हालाला के मज़े लेना चाहती हैं इसलिए धर्म परिवर्तन करवायी हैं</td>\n",
              "      <td>1</td>\n",
              "    </tr>\n",
              "    <tr>\n",
              "      <th>483</th>\n",
              "      <td>बोहोत ही फूहड़ औरत हैं कँगना एक नंबर की छठी अय्यास हैं कमीनी</td>\n",
              "      <td>1</td>\n",
              "    </tr>\n",
              "    <tr>\n",
              "      <th>459</th>\n",
              "      <td>सोशल मीडिया पर एक्टिव प्रधानमंत्री मोदी 'मन की बात' पर डिस्लाइक देख क्या सोचते होंगे क्या कुछ करेंगे अपनी राय हमें कॉमेंट्स में बताएं</td>\n",
              "      <td>0</td>\n",
              "    </tr>\n",
              "    <tr>\n",
              "      <th>421</th>\n",
              "      <td>‘होस्टेजेस’ के सीजन में खतरनाक कातिल बने डीनो मोरिया समझिए कैसे की अपने इस किरदार की पूरी तैयारी hostagesseason</td>\n",
              "      <td>0</td>\n",
              "    </tr>\n",
              "  </tbody>\n",
              "</table>\n",
              "</div>"
            ]
          },
          "metadata": {},
          "execution_count": 40
        }
      ]
    },
    {
      "cell_type": "code",
      "metadata": {
        "id": "pWKMpy5501f6",
        "colab": {
          "base_uri": "https://localhost:8080/"
        },
        "outputId": "a5b366b2-a79f-4ebc-97cb-c74ebbdf66a4"
      },
      "source": [
        "y_pred_hi = model.predict_proba(X_hi)[:,1].round(3)\n",
        "print(classification_report(y_hi, (y_pred_hi>=0.5)*1), '\\n')\n",
        "print(confusion_matrix(y_hi, (y_pred_hi>=0.5)*1))"
      ],
      "execution_count": null,
      "outputs": [
        {
          "output_type": "stream",
          "name": "stdout",
          "text": [
            "              precision    recall  f1-score   support\n",
            "\n",
            "           0       0.98      0.94      0.96        52\n",
            "           1       0.94      0.98      0.96        50\n",
            "\n",
            "    accuracy                           0.96       102\n",
            "   macro avg       0.96      0.96      0.96       102\n",
            "weighted avg       0.96      0.96      0.96       102\n",
            " \n",
            "\n",
            "[[49  3]\n",
            " [ 1 49]]\n"
          ]
        }
      ]
    },
    {
      "cell_type": "markdown",
      "metadata": {
        "id": "rGt1qG9f2fBd"
      },
      "source": [
        "# Portuguese dataset"
      ]
    },
    {
      "cell_type": "code",
      "metadata": {
        "id": "RKwiOUe8qm98",
        "colab": {
          "base_uri": "https://localhost:8080/",
          "height": 204
        },
        "outputId": "5e566c83-80fb-4ab9-b341-6fd70ee37e49"
      },
      "source": [
        "df_pt.sample(5)"
      ],
      "execution_count": null,
      "outputs": [
        {
          "output_type": "execute_result",
          "data": {
            "text/plain": [
              "                                                                                                                             text  \\\n",
              "601                                                                                         filha da puta eu to perto da minha vó   \n",
              "551                                           é a rodada mais feliz da vida escalo vascaíno p caralho no cartola e não é clubismo   \n",
              "556                                                                                     vou querer me mudar para uma life on mars   \n",
              "544  é muito irônico a pm não ter direito a greve e fazer enquanto as outras categorias têm direito a greve e apanham da pm quand   \n",
              "612                                                                             eu odeio rico vai tomar no cu com tanto diinheiro   \n",
              "\n",
              "     label  \n",
              "601      1  \n",
              "551      0  \n",
              "556      0  \n",
              "544      0  \n",
              "612      1  "
            ],
            "text/html": [
              "<div>\n",
              "<style scoped>\n",
              "    .dataframe tbody tr th:only-of-type {\n",
              "        vertical-align: middle;\n",
              "    }\n",
              "\n",
              "    .dataframe tbody tr th {\n",
              "        vertical-align: top;\n",
              "    }\n",
              "\n",
              "    .dataframe thead th {\n",
              "        text-align: right;\n",
              "    }\n",
              "</style>\n",
              "<table border=\"1\" class=\"dataframe\">\n",
              "  <thead>\n",
              "    <tr style=\"text-align: right;\">\n",
              "      <th></th>\n",
              "      <th>text</th>\n",
              "      <th>label</th>\n",
              "    </tr>\n",
              "  </thead>\n",
              "  <tbody>\n",
              "    <tr>\n",
              "      <th>601</th>\n",
              "      <td>filha da puta eu to perto da minha vó</td>\n",
              "      <td>1</td>\n",
              "    </tr>\n",
              "    <tr>\n",
              "      <th>551</th>\n",
              "      <td>é a rodada mais feliz da vida escalo vascaíno p caralho no cartola e não é clubismo</td>\n",
              "      <td>0</td>\n",
              "    </tr>\n",
              "    <tr>\n",
              "      <th>556</th>\n",
              "      <td>vou querer me mudar para uma life on mars</td>\n",
              "      <td>0</td>\n",
              "    </tr>\n",
              "    <tr>\n",
              "      <th>544</th>\n",
              "      <td>é muito irônico a pm não ter direito a greve e fazer enquanto as outras categorias têm direito a greve e apanham da pm quand</td>\n",
              "      <td>0</td>\n",
              "    </tr>\n",
              "    <tr>\n",
              "      <th>612</th>\n",
              "      <td>eu odeio rico vai tomar no cu com tanto diinheiro</td>\n",
              "      <td>1</td>\n",
              "    </tr>\n",
              "  </tbody>\n",
              "</table>\n",
              "</div>"
            ]
          },
          "metadata": {},
          "execution_count": 43
        }
      ]
    },
    {
      "cell_type": "code",
      "metadata": {
        "id": "aXxsWo_x1QmE",
        "colab": {
          "base_uri": "https://localhost:8080/"
        },
        "outputId": "ec29d16b-8b8f-47d8-b233-a1e06a6a0457"
      },
      "source": [
        "y_pred_pt = model.predict_proba(X_pt)[:,1].round(3)\n",
        "print(classification_report(y_pt, (y_pred_pt>=0.5)*1), '\\n')\n",
        "print(confusion_matrix(y_pt, (y_pred_pt>=0.5)*1))"
      ],
      "execution_count": null,
      "outputs": [
        {
          "output_type": "stream",
          "name": "stdout",
          "text": [
            "              precision    recall  f1-score   support\n",
            "\n",
            "           0       1.00      0.98      0.99        50\n",
            "           1       0.98      1.00      0.99        50\n",
            "\n",
            "    accuracy                           0.99       100\n",
            "   macro avg       0.99      0.99      0.99       100\n",
            "weighted avg       0.99      0.99      0.99       100\n",
            " \n",
            "\n",
            "[[49  1]\n",
            " [ 0 50]]\n"
          ]
        }
      ]
    },
    {
      "cell_type": "markdown",
      "metadata": {
        "id": "83N-O4Ys2iel"
      },
      "source": [
        "# Turkish dataset"
      ]
    },
    {
      "cell_type": "code",
      "metadata": {
        "id": "idvaMovuqrl9",
        "colab": {
          "base_uri": "https://localhost:8080/",
          "height": 204
        },
        "outputId": "9ba824c8-7835-4f24-a810-c4b7a42fcee9"
      },
      "source": [
        "df_tr.sample(5)"
      ],
      "execution_count": null,
      "outputs": [
        {
          "output_type": "execute_result",
          "data": {
            "text/plain": [
              "                                                                                                                                                                                         text  \\\n",
              "645                                                                                                                                            “güzellik ruhun fiyakasıdır” kaleminize sağlık   \n",
              "687                                                                                                                                   allah'ım lütfen er adet beyin ver şu beyinsiz kullarına   \n",
              "696                                                         şu anda dünyanın en zalimleri müslümanlardır o görselde çelme takanı gösteriyor ama kovalayan şeytan suratlıları niye göstermiyor   \n",
              "639                                     “rasûlullah sallallahu aleyhi ve sellem âşûrâ günü oruç tutmayı emrederdi ramazan orucu farz kılındıktan sonra isteyen oruç tutardı isteyen tutmazdı”   \n",
              "652  şu son günlerde öyle şeyler yaşadım ki artık insanlara “bu hangi çıkaramaç için yazıyor acaba” diye düşünmeye başladım ne lanet bi duyguymuş kimseyeye güvenememek büyümek bu olsa gerek   \n",
              "\n",
              "     label  \n",
              "645      0  \n",
              "687      1  \n",
              "696      1  \n",
              "639      0  \n",
              "652      0  "
            ],
            "text/html": [
              "<div>\n",
              "<style scoped>\n",
              "    .dataframe tbody tr th:only-of-type {\n",
              "        vertical-align: middle;\n",
              "    }\n",
              "\n",
              "    .dataframe tbody tr th {\n",
              "        vertical-align: top;\n",
              "    }\n",
              "\n",
              "    .dataframe thead th {\n",
              "        text-align: right;\n",
              "    }\n",
              "</style>\n",
              "<table border=\"1\" class=\"dataframe\">\n",
              "  <thead>\n",
              "    <tr style=\"text-align: right;\">\n",
              "      <th></th>\n",
              "      <th>text</th>\n",
              "      <th>label</th>\n",
              "    </tr>\n",
              "  </thead>\n",
              "  <tbody>\n",
              "    <tr>\n",
              "      <th>645</th>\n",
              "      <td>“güzellik ruhun fiyakasıdır” kaleminize sağlık</td>\n",
              "      <td>0</td>\n",
              "    </tr>\n",
              "    <tr>\n",
              "      <th>687</th>\n",
              "      <td>allah'ım lütfen er adet beyin ver şu beyinsiz kullarına</td>\n",
              "      <td>1</td>\n",
              "    </tr>\n",
              "    <tr>\n",
              "      <th>696</th>\n",
              "      <td>şu anda dünyanın en zalimleri müslümanlardır o görselde çelme takanı gösteriyor ama kovalayan şeytan suratlıları niye göstermiyor</td>\n",
              "      <td>1</td>\n",
              "    </tr>\n",
              "    <tr>\n",
              "      <th>639</th>\n",
              "      <td>“rasûlullah sallallahu aleyhi ve sellem âşûrâ günü oruç tutmayı emrederdi ramazan orucu farz kılındıktan sonra isteyen oruç tutardı isteyen tutmazdı”</td>\n",
              "      <td>0</td>\n",
              "    </tr>\n",
              "    <tr>\n",
              "      <th>652</th>\n",
              "      <td>şu son günlerde öyle şeyler yaşadım ki artık insanlara “bu hangi çıkaramaç için yazıyor acaba” diye düşünmeye başladım ne lanet bi duyguymuş kimseyeye güvenememek büyümek bu olsa gerek</td>\n",
              "      <td>0</td>\n",
              "    </tr>\n",
              "  </tbody>\n",
              "</table>\n",
              "</div>"
            ]
          },
          "metadata": {},
          "execution_count": 53
        }
      ]
    },
    {
      "cell_type": "code",
      "metadata": {
        "id": "kg16nTvI1RME",
        "colab": {
          "base_uri": "https://localhost:8080/"
        },
        "outputId": "e0a76b0c-90d2-4301-b7d2-1c861d703f9a"
      },
      "source": [
        "y_pred_tr = model.predict_proba(X_tr)[:,1].round(3)\n",
        "print(classification_report(y_tr, (y_pred_tr>=0.5)*1), '\\n')\n",
        "print(confusion_matrix(y_tr, (y_pred_tr>=0.5)*1))"
      ],
      "execution_count": null,
      "outputs": [
        {
          "output_type": "stream",
          "name": "stdout",
          "text": [
            "              precision    recall  f1-score   support\n",
            "\n",
            "           0       0.88      0.96      0.92        52\n",
            "           1       0.96      0.86      0.91        50\n",
            "\n",
            "    accuracy                           0.91       102\n",
            "   macro avg       0.92      0.91      0.91       102\n",
            "weighted avg       0.92      0.91      0.91       102\n",
            " \n",
            "\n",
            "[[50  2]\n",
            " [ 7 43]]\n"
          ]
        }
      ]
    },
    {
      "cell_type": "markdown",
      "metadata": {
        "id": "oEb6LBqf2lA-"
      },
      "source": [
        "# Chinese dataset"
      ]
    },
    {
      "cell_type": "code",
      "metadata": {
        "id": "Cuca-KxPqw8r",
        "colab": {
          "base_uri": "https://localhost:8080/",
          "height": 204
        },
        "outputId": "b63a3321-da83-464b-a907-fbff4e28de55"
      },
      "source": [
        "df_zh.sample(5)"
      ],
      "execution_count": null,
      "outputs": [
        {
          "output_type": "execute_result",
          "data": {
            "text/plain": [
              "                                                                                   text  \\\n",
              "771                                                            男性女权主义者，其实就是为了讨好女性，继而骗炮。   \n",
              "725                                                               那你怎么不多去看看有关papi的操作证明？   \n",
              "799                                                            鸡贼男心理，女性不戳瞎自己下嫁，就会这样那样……   \n",
              "755  说的太对了，生活方式原本就都不一样，没必要非要去强求，而且过的好就行，又不是打仗非要来个谁赢谁输，都是太过于悠闲的人在指责，自己的日子都不知道是什么样的，就说这说那   \n",
              "781              哇，明白人啊。所谓的女权婊其实心理还是男权为中心，把自己摆在附属品的位置争夺物质，以为要的越多，才是真正的女权。其实真正的女权是独立自尊自爱   \n",
              "\n",
              "     label  \n",
              "771      1  \n",
              "725      0  \n",
              "799      1  \n",
              "755      0  \n",
              "781      1  "
            ],
            "text/html": [
              "<div>\n",
              "<style scoped>\n",
              "    .dataframe tbody tr th:only-of-type {\n",
              "        vertical-align: middle;\n",
              "    }\n",
              "\n",
              "    .dataframe tbody tr th {\n",
              "        vertical-align: top;\n",
              "    }\n",
              "\n",
              "    .dataframe thead th {\n",
              "        text-align: right;\n",
              "    }\n",
              "</style>\n",
              "<table border=\"1\" class=\"dataframe\">\n",
              "  <thead>\n",
              "    <tr style=\"text-align: right;\">\n",
              "      <th></th>\n",
              "      <th>text</th>\n",
              "      <th>label</th>\n",
              "    </tr>\n",
              "  </thead>\n",
              "  <tbody>\n",
              "    <tr>\n",
              "      <th>771</th>\n",
              "      <td>男性女权主义者，其实就是为了讨好女性，继而骗炮。</td>\n",
              "      <td>1</td>\n",
              "    </tr>\n",
              "    <tr>\n",
              "      <th>725</th>\n",
              "      <td>那你怎么不多去看看有关papi的操作证明？</td>\n",
              "      <td>0</td>\n",
              "    </tr>\n",
              "    <tr>\n",
              "      <th>799</th>\n",
              "      <td>鸡贼男心理，女性不戳瞎自己下嫁，就会这样那样……</td>\n",
              "      <td>1</td>\n",
              "    </tr>\n",
              "    <tr>\n",
              "      <th>755</th>\n",
              "      <td>说的太对了，生活方式原本就都不一样，没必要非要去强求，而且过的好就行，又不是打仗非要来个谁赢谁输，都是太过于悠闲的人在指责，自己的日子都不知道是什么样的，就说这说那</td>\n",
              "      <td>0</td>\n",
              "    </tr>\n",
              "    <tr>\n",
              "      <th>781</th>\n",
              "      <td>哇，明白人啊。所谓的女权婊其实心理还是男权为中心，把自己摆在附属品的位置争夺物质，以为要的越多，才是真正的女权。其实真正的女权是独立自尊自爱</td>\n",
              "      <td>1</td>\n",
              "    </tr>\n",
              "  </tbody>\n",
              "</table>\n",
              "</div>"
            ]
          },
          "metadata": {},
          "execution_count": 55
        }
      ]
    },
    {
      "cell_type": "code",
      "metadata": {
        "id": "Ik-JVKOT1R0O",
        "colab": {
          "base_uri": "https://localhost:8080/"
        },
        "outputId": "1e59c2d1-7c31-45b3-c6d4-9cfe499eceba"
      },
      "source": [
        "y_pred_zh = model.predict_proba(X_zh)[:,1].round(3)\n",
        "print(classification_report(y_zh, (y_pred_zh>=0.5)*1), '\\n')\n",
        "print(confusion_matrix(y_zh, (y_pred_zh>=0.5)*1))"
      ],
      "execution_count": null,
      "outputs": [
        {
          "output_type": "stream",
          "name": "stdout",
          "text": [
            "              precision    recall  f1-score   support\n",
            "\n",
            "           0       0.88      1.00      0.93        50\n",
            "           1       1.00      0.86      0.92        50\n",
            "\n",
            "    accuracy                           0.93       100\n",
            "   macro avg       0.94      0.93      0.93       100\n",
            "weighted avg       0.94      0.93      0.93       100\n",
            " \n",
            "\n",
            "[[50  0]\n",
            " [ 7 43]]\n"
          ]
        }
      ]
    },
    {
      "cell_type": "code",
      "metadata": {
        "id": "0POlkxRtH6Ml"
      },
      "source": [
        ""
      ],
      "execution_count": null,
      "outputs": []
    },
    {
      "cell_type": "code",
      "metadata": {
        "id": "jxAnZPy6cp-5"
      },
      "source": [
        "# hate examples\n",
        "\n",
        "# men are inferior\n",
        "# women are inferior\n",
        "\n",
        "# muslims have no place in society\n",
        "# hindus have no place in society\n",
        "# chirstians have no place in society\n",
        "\n",
        "# black people are lowlife\n",
        "# white people are lowlife\n",
        "# asian people are lowlife\n",
        "\n",
        "# gay people have no rights\n",
        "# straight people have no rights\n",
        "\n",
        "# औरतें कमीनी होती हैं\n",
        "# मर्द कमीने होते हैं\n",
        "\n",
        "\n",
        "# not hate examples\n",
        "\n",
        "# I love burgers\n",
        "# black people are delightful\n",
        "# homosexuals are not disgusting\n",
        "# हम हैं राही प्यार के"
      ],
      "execution_count": null,
      "outputs": []
    },
    {
      "cell_type": "markdown",
      "metadata": {
        "id": "RdO8HoQGbX6F"
      },
      "source": [
        "# Web app to test the model"
      ]
    },
    {
      "cell_type": "code",
      "metadata": {
        "colab": {
          "base_uri": "https://localhost:8080/",
          "height": 643
        },
        "id": "Byt6ZOGTpFj0",
        "outputId": "a8106497-3b4d-4644-c9bc-89099a2fa360"
      },
      "source": [
        "def prediction(text):\n",
        "  prob = prediction_fn(text, vect_model=vect_model, sk_model=model)\n",
        "  return {'not hate': str(1-prob), 'hate': str(prob)}\n",
        "\n",
        "iface = gr.Interface(\n",
        "  fn=prediction,\n",
        "  inputs=\"text\",\n",
        "  outputs=\"label\",\n",
        "  allow_screenshot=False, allow_flagging=False)\n",
        "iface.launch(share=True, debug=False)"
      ],
      "execution_count": 11,
      "outputs": [
        {
          "output_type": "stream",
          "name": "stdout",
          "text": [
            "Running on local URL:  http://127.0.0.1:7862/\n",
            "Running on public URL: https://31132.gradio.app\n",
            "\n",
            "This share link will expire in 72 hours. To get longer links, send an email to: support@gradio.app\n"
          ]
        },
        {
          "output_type": "display_data",
          "data": {
            "text/plain": [
              "<IPython.lib.display.IFrame at 0x7fd19be13710>"
            ],
            "text/html": [
              "\n",
              "        <iframe\n",
              "            width=\"900\"\n",
              "            height=\"500\"\n",
              "            src=\"https://31132.gradio.app\"\n",
              "            frameborder=\"0\"\n",
              "            allowfullscreen\n",
              "            \n",
              "        ></iframe>\n",
              "        "
            ]
          },
          "metadata": {}
        },
        {
          "output_type": "execute_result",
          "data": {
            "text/plain": [
              "(<Flask 'gradio.networking'>,\n",
              " 'http://127.0.0.1:7862/',\n",
              " 'https://31132.gradio.app')"
            ]
          },
          "metadata": {},
          "execution_count": 11
        }
      ]
    },
    {
      "cell_type": "code",
      "metadata": {
        "id": "1rau5gn2uLZu"
      },
      "source": [
        ""
      ],
      "execution_count": null,
      "outputs": []
    }
  ]
}